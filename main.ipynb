{
  "nbformat": 4,
  "nbformat_minor": 0,
  "metadata": {
    "colab": {
      "provenance": [],
      "include_colab_link": true
    },
    "kernelspec": {
      "name": "python3",
      "display_name": "Python 3"
    },
    "language_info": {
      "name": "python"
    }
  },
  "cells": [
    {
      "cell_type": "markdown",
      "metadata": {
        "id": "view-in-github",
        "colab_type": "text"
      },
      "source": [
        "<a href=\"https://colab.research.google.com/github/FCosmin27/ocs/blob/teo/main.ipynb\" target=\"_parent\"><img src=\"https://colab.research.google.com/assets/colab-badge.svg\" alt=\"Open In Colab\"/></a>"
      ]
    },
    {
      "cell_type": "code",
      "execution_count": 4,
      "metadata": {
        "id": "tjSYtHF2S9_m"
      },
      "outputs": [],
      "source": [
        "import numpy as np\n",
        "import random"
      ]
    },
    {
      "cell_type": "code",
      "source": [
        "upper_bound = 100\n",
        "lower_bound = -100\n",
        "no_of_variables = 10"
      ],
      "metadata": {
        "id": "rnwQSE8vTXgr"
      },
      "execution_count": 3,
      "outputs": []
    },
    {
      "cell_type": "code",
      "source": [
        "def check_x(x):\n",
        "    for i in range(len(x)):\n",
        "        if x[i] > upper_bound:\n",
        "            x[i] = upper_bound\n",
        "        elif x[i] < lower_bound:\n",
        "            x[i] = lower_bound\n",
        "    return x"
      ],
      "metadata": {
        "id": "J8hQyFcqTZaf"
      },
      "execution_count": 5,
      "outputs": []
    },
    {
      "cell_type": "code",
      "source": [
        "x = np.random.normal(size=no_of_variables)\n",
        "\n",
        "x = check_x(x)\n",
        "print(x)"
      ],
      "metadata": {
        "colab": {
          "base_uri": "https://localhost:8080/"
        },
        "id": "rQUMPzvaTatT",
        "outputId": "ea99a7f8-a515-40e1-8ee8-bc897a834617"
      },
      "execution_count": 6,
      "outputs": [
        {
          "output_type": "stream",
          "name": "stdout",
          "text": [
            "[-0.87900411 -0.5765651   0.08228428 -0.10521159  1.21151382  1.12903649\n",
            "  0.61656033  0.90530397 -1.29382545  1.56629841]\n"
          ]
        }
      ]
    },
    {
      "cell_type": "code",
      "source": [
        "def f1(x):\n",
        "    return np.sum(np.square(x))"
      ],
      "metadata": {
        "id": "FcdAXvYHTbyJ"
      },
      "execution_count": 7,
      "outputs": []
    },
    {
      "cell_type": "code",
      "source": [
        "def f2(x):\n",
        "    result = 0\n",
        "    for i in range(no_of_variables):\n",
        "        tmp = 0\n",
        "        for j in range(i):\n",
        "            tmp += x[j]\n",
        "\n",
        "        result += tmp**2\n",
        "\n",
        "    return result"
      ],
      "metadata": {
        "id": "ECqRLdzjTcux"
      },
      "execution_count": 53,
      "outputs": []
    },
    {
      "cell_type": "code",
      "source": [
        "def f3(x):\n",
        "    result = 0\n",
        "    for i in range(1, no_of_variables):\n",
        "        result += 1e6 ** ((i-1)/(no_of_variables-1)) * x[i]**2\n",
        "\n",
        "    return result"
      ],
      "metadata": {
        "id": "4zGXZFRbTdcy"
      },
      "execution_count": 54,
      "outputs": []
    },
    {
      "cell_type": "code",
      "source": [
        "def f4(x):\n",
        "    result = 0\n",
        "    for i in range(no_of_variables):\n",
        "        tmp = 0\n",
        "        for j in range(i):\n",
        "            tmp += x[j]\n",
        "\n",
        "        result += tmp**2\n",
        "\n",
        "    return result * (1 + 0.4 * np.abs(np.random.randn()))"
      ],
      "metadata": {
        "id": "N7Vrpv1yTeIV"
      },
      "execution_count": 55,
      "outputs": []
    },
    {
      "cell_type": "code",
      "source": [
        "def f5(x):\n",
        "    A = np.random.randint(-500, 501, size=(no_of_variables, no_of_variables))\n",
        "\n",
        "    while np.linalg.det(A) == 0:\n",
        "        A = np.random.randint(-500, 501, size=(no_of_variables, no_of_variables))\n",
        "\n",
        "    return np.max(np.abs(x*A - A))"
      ],
      "metadata": {
        "id": "FuWB7S4ETfKq"
      },
      "execution_count": 11,
      "outputs": []
    },
    {
      "cell_type": "code",
      "source": [
        "print(\"f1(x):\", f1(x))\n",
        "print(\"f2(x):\", f2(x))\n",
        "print(\"f3(x):\", f3(x))\n",
        "print(\"f4(x):\", f4(x))\n",
        "print(\"f5(x):\", f5(x))"
      ],
      "metadata": {
        "id": "I0Uo8-kpTgF1",
        "outputId": "2294571a-2201-4100-c5a3-75320ab6f94e",
        "colab": {
          "base_uri": "https://localhost:8080/"
        }
      },
      "execution_count": 12,
      "outputs": [
        {
          "output_type": "stream",
          "name": "stdout",
          "text": [
            "f1(x): 9.192401806586169\n",
            "f2(x): 16.835277198404732\n",
            "f3(x): 615998.7376365319\n",
            "f4(x): 19.262423256165903\n",
            "f5(x): 1018.458501271515\n"
          ]
        }
      ]
    },
    {
      "cell_type": "code",
      "source": [
        "def calculate_min_x(func, no_of_agents, x, es, alpha):\n",
        "    min_x = x\n",
        "    for _ in range(es):\n",
        "        xm = min_x + alpha * np.random.normal(size=no_of_variables)\n",
        "        xm = check_x(xm)\n",
        "        if func(xm) < func(min_x):\n",
        "            min_x = xm\n",
        "    return min_x"
      ],
      "metadata": {
        "id": "IFN4F8E2Tgxs"
      },
      "execution_count": 13,
      "outputs": []
    },
    {
      "cell_type": "code",
      "source": [
        "def get_population(number_of_variables, population_size):\n",
        "    return np.random.normal(size=(population_size, number_of_variables))"
      ],
      "metadata": {
        "id": "eDBJB0FtThuX"
      },
      "execution_count": 14,
      "outputs": []
    },
    {
      "cell_type": "code",
      "source": [
        "initial_alpha = 0.5\n",
        "no_of_variables = 10\n",
        "population_size = 5\n",
        "iterations = 100\n",
        "functions = [f1, f2, f3, f4, f5]\n",
        "population = get_population(no_of_variables, population_size)"
      ],
      "metadata": {
        "id": "4TX84k7UTins"
      },
      "execution_count": 45,
      "outputs": []
    },
    {
      "cell_type": "markdown",
      "source": [
        "# Lab2"
      ],
      "metadata": {
        "id": "3RaDW_o7Vv1c"
      }
    },
    {
      "cell_type": "code",
      "source": [
        "def population_v2_adaptive(initial_alpha, population, function, no_of_variables, max_NFE):\n",
        "    NFE = 0\n",
        "    iter_no = 0\n",
        "\n",
        "    while NFE < max_NFE:\n",
        "        iter_no += 1\n",
        "        alpha = initial_alpha / (iter_no + 1)\n",
        "        new_population = []\n",
        "\n",
        "        for agent in population:\n",
        "            new_agents = [agent + alpha * np.random.normal(size=no_of_variables) for _ in range(len(population))]\n",
        "            best_agent = min(new_agents, key=function)\n",
        "            new_population.append(best_agent)\n",
        "\n",
        "            NFE += len(population)\n",
        "\n",
        "            if NFE >= max_NFE:\n",
        "                break\n",
        "\n",
        "        if sum([function(agent) for agent in new_population]) < sum([function(agent) for agent in population]):\n",
        "            population = new_population\n",
        "\n",
        "        if NFE >= max_NFE:\n",
        "            break\n",
        "\n",
        "    return population"
      ],
      "metadata": {
        "id": "7vEG8FriTjaQ"
      },
      "execution_count": 33,
      "outputs": []
    },
    {
      "cell_type": "code",
      "source": [
        "print(\"f1(x):\", population_v2_adaptive(population, f1))\n",
        "print(\"f2(x):\", population_v2_adaptive(population, f2))\n",
        "print(\"f3(x):\", population_v2_adaptive(population, f3))\n",
        "print(\"f4(x):\", population_v2_adaptive(population, f4))\n",
        "print(\"f5(x):\", population_v2_adaptive(population, f5))"
      ],
      "metadata": {
        "id": "rS7ayMoGTkKe",
        "outputId": "6abf4f7e-04a5-4755-92e2-3ac235fdd702",
        "colab": {
          "base_uri": "https://localhost:8080/",
          "height": 231
        }
      },
      "execution_count": 56,
      "outputs": [
        {
          "output_type": "error",
          "ename": "TypeError",
          "evalue": "population_v2_adaptive() missing 3 required positional arguments: 'function', 'no_of_variables', and 'max_NFE'",
          "traceback": [
            "\u001b[0;31m---------------------------------------------------------------------------\u001b[0m",
            "\u001b[0;31mTypeError\u001b[0m                                 Traceback (most recent call last)",
            "\u001b[0;32m<ipython-input-56-86dd3a1a5a04>\u001b[0m in \u001b[0;36m<cell line: 1>\u001b[0;34m()\u001b[0m\n\u001b[0;32m----> 1\u001b[0;31m \u001b[0mprint\u001b[0m\u001b[0;34m(\u001b[0m\u001b[0;34m\"f1(x):\"\u001b[0m\u001b[0;34m,\u001b[0m \u001b[0mpopulation_v2_adaptive\u001b[0m\u001b[0;34m(\u001b[0m\u001b[0mpopulation\u001b[0m\u001b[0;34m,\u001b[0m \u001b[0mf1\u001b[0m\u001b[0;34m)\u001b[0m\u001b[0;34m)\u001b[0m\u001b[0;34m\u001b[0m\u001b[0;34m\u001b[0m\u001b[0m\n\u001b[0m\u001b[1;32m      2\u001b[0m \u001b[0mprint\u001b[0m\u001b[0;34m(\u001b[0m\u001b[0;34m\"f2(x):\"\u001b[0m\u001b[0;34m,\u001b[0m \u001b[0mpopulation_v2_adaptive\u001b[0m\u001b[0;34m(\u001b[0m\u001b[0mpopulation\u001b[0m\u001b[0;34m,\u001b[0m \u001b[0mf2\u001b[0m\u001b[0;34m)\u001b[0m\u001b[0;34m)\u001b[0m\u001b[0;34m\u001b[0m\u001b[0;34m\u001b[0m\u001b[0m\n\u001b[1;32m      3\u001b[0m \u001b[0mprint\u001b[0m\u001b[0;34m(\u001b[0m\u001b[0;34m\"f3(x):\"\u001b[0m\u001b[0;34m,\u001b[0m \u001b[0mpopulation_v2_adaptive\u001b[0m\u001b[0;34m(\u001b[0m\u001b[0mpopulation\u001b[0m\u001b[0;34m,\u001b[0m \u001b[0mf3\u001b[0m\u001b[0;34m)\u001b[0m\u001b[0;34m)\u001b[0m\u001b[0;34m\u001b[0m\u001b[0;34m\u001b[0m\u001b[0m\n\u001b[1;32m      4\u001b[0m \u001b[0mprint\u001b[0m\u001b[0;34m(\u001b[0m\u001b[0;34m\"f4(x):\"\u001b[0m\u001b[0;34m,\u001b[0m \u001b[0mpopulation_v2_adaptive\u001b[0m\u001b[0;34m(\u001b[0m\u001b[0mpopulation\u001b[0m\u001b[0;34m,\u001b[0m \u001b[0mf4\u001b[0m\u001b[0;34m)\u001b[0m\u001b[0;34m)\u001b[0m\u001b[0;34m\u001b[0m\u001b[0;34m\u001b[0m\u001b[0m\n\u001b[1;32m      5\u001b[0m \u001b[0mprint\u001b[0m\u001b[0;34m(\u001b[0m\u001b[0;34m\"f5(x):\"\u001b[0m\u001b[0;34m,\u001b[0m \u001b[0mpopulation_v2_adaptive\u001b[0m\u001b[0;34m(\u001b[0m\u001b[0mpopulation\u001b[0m\u001b[0;34m,\u001b[0m \u001b[0mf5\u001b[0m\u001b[0;34m)\u001b[0m\u001b[0;34m)\u001b[0m\u001b[0;34m\u001b[0m\u001b[0;34m\u001b[0m\u001b[0m\n",
            "\u001b[0;31mTypeError\u001b[0m: population_v2_adaptive() missing 3 required positional arguments: 'function', 'no_of_variables', and 'max_NFE'"
          ]
        }
      ]
    },
    {
      "cell_type": "code",
      "source": [
        "for idx, population in enumerate(population_v2_adaptive()):\n",
        "    print(\"Function\", idx+1)\n",
        "    for agent in population:\n",
        "        print(agent, f1(agent))\n"
      ],
      "metadata": {
        "id": "yHFnDa42TlY_"
      },
      "execution_count": null,
      "outputs": []
    },
    {
      "cell_type": "code",
      "source": [
        "def pc_function(iter_no):\n",
        "    return max(0.5, 1 / (1 + iter_no))"
      ],
      "metadata": {
        "id": "-4N3CvfRXPZ7"
      },
      "execution_count": 16,
      "outputs": []
    },
    {
      "cell_type": "code",
      "source": [
        "def pm_function(iter_no):\n",
        "    return max(0.01, 0.1 / (1 + iter_no))"
      ],
      "metadata": {
        "id": "b_Rgobw2XNnm"
      },
      "execution_count": 17,
      "outputs": []
    },
    {
      "cell_type": "code",
      "source": [
        "def sphere_function(x):\n",
        "    return np.sum(np.square(x))"
      ],
      "metadata": {
        "id": "hUjvlS7KXIey"
      },
      "execution_count": 18,
      "outputs": []
    },
    {
      "cell_type": "markdown",
      "source": [
        "# Lab3"
      ],
      "metadata": {
        "id": "tijrT1NcVxl0"
      }
    },
    {
      "cell_type": "code",
      "source": [
        "def CGA_adaptiveV1_greedy(pc_function, pm_function, population, function, no_of_variables):\n",
        "    NFE = 0\n",
        "    max_NFE = 1000\n",
        "    iter_no = 0\n",
        "\n",
        "    while NFE < max_NFE:\n",
        "        iter_no += 1\n",
        "        pc = pc_function(iter_no)\n",
        "        pm = pm_function(iter_no)\n",
        "\n",
        "        new_population = []\n",
        "        for i in range(len(population)):\n",
        "            parent1 = population[i]\n",
        "            parent2 = population[np.random.randint(len(population))]\n",
        "\n",
        "            if np.random.rand() < pc:\n",
        "                crossover_point = np.random.randint(1, no_of_variables - 1)\n",
        "                child = np.concatenate((parent1[:crossover_point], parent2[crossover_point:]))\n",
        "            else:\n",
        "                child = parent1.copy()\n",
        "\n",
        "            if np.random.rand() < pm:\n",
        "                mutation_idx = np.random.randint(no_of_variables)\n",
        "                child[mutation_idx] += np.random.normal()\n",
        "\n",
        "            new_population.append(child)\n",
        "\n",
        "        new_population.sort(key=function)\n",
        "        best_parent = min(population, key=function)\n",
        "        new_population[-1] = best_parent\n",
        "\n",
        "        population = new_population\n",
        "\n",
        "        NFE += len(new_population)\n",
        "\n",
        "    return population"
      ],
      "metadata": {
        "id": "S-roH1JNUK6l"
      },
      "execution_count": 34,
      "outputs": []
    },
    {
      "cell_type": "code",
      "source": [
        "final_population = CGA_adaptiveV1_greedy(pc_function, pm_function, population, sphere_function, no_of_variables)\n",
        "print(\"Best solution (CGA):\", min(final_population, key=sphere_function))\n"
      ],
      "metadata": {
        "colab": {
          "base_uri": "https://localhost:8080/"
        },
        "id": "igPynvsoXDR1",
        "outputId": "f1c9a399-37b2-44a4-aaa4-f90500e8254f"
      },
      "execution_count": 35,
      "outputs": [
        {
          "output_type": "stream",
          "name": "stdout",
          "text": [
            "Best solution (CGA): [ 0.10849433  0.56144834 -1.21562659 -0.08643343  0.00310515  0.26575802\n",
            " -0.15021836  0.20669168  0.04663977  0.47775293]\n"
          ]
        }
      ]
    },
    {
      "cell_type": "code",
      "source": [
        "def pc_function_fitness(fitness):\n",
        "    return 0.5 + 0.4 * fitness"
      ],
      "metadata": {
        "id": "FRIlQo36YdHF"
      },
      "execution_count": 19,
      "outputs": []
    },
    {
      "cell_type": "code",
      "source": [
        "def pm_function_fitness(fitness):\n",
        "    return 0.1 - 0.08 * fitness"
      ],
      "metadata": {
        "id": "zvH2V_jkYfFQ"
      },
      "execution_count": 20,
      "outputs": []
    },
    {
      "cell_type": "markdown",
      "source": [
        "# Lab4"
      ],
      "metadata": {
        "id": "NfbgfECHVzHk"
      }
    },
    {
      "cell_type": "code",
      "source": [
        "def RGA_4(population, function, pc=0.9, pm=0.1, max_NFE=1000):\n",
        "    NFE = 0\n",
        "    no_of_variables = population.shape[1]\n",
        "    while NFE < max_NFE:\n",
        "        new_population = []\n",
        "        for _ in range(len(population) // 2):\n",
        "            parent1, parent2 = population[np.random.choice(len(population), 2, replace=False)]\n",
        "\n",
        "            if np.random.rand() < pc:\n",
        "                alpha = 0.1\n",
        "                child1 = np.random.uniform(np.minimum(parent1, parent2) - alpha * np.abs(parent1 - parent2),\n",
        "                                           np.maximum(parent1, parent2) + alpha * np.abs(parent1 - parent2))\n",
        "                child2 = np.random.uniform(np.minimum(parent1, parent2) - alpha * np.abs(parent1 - parent2),\n",
        "                                           np.maximum(parent1, parent2) + alpha * np.abs(parent1 - parent2))\n",
        "            else:\n",
        "                child1, child2 = parent1.copy(), parent2.copy()\n",
        "\n",
        "            if np.random.rand() < pm:\n",
        "                mutation_idx = np.random.randint(no_of_variables)\n",
        "                child1[mutation_idx] += np.random.normal()\n",
        "            if np.random.rand() < pm:\n",
        "                mutation_idx = np.random.randint(no_of_variables)\n",
        "                child2[mutation_idx] += np.random.normal()\n",
        "\n",
        "            child1 = np.clip(child1, -10, 10)\n",
        "            child2 = np.clip(child2, -10, 10)\n",
        "\n",
        "            new_population.extend([child1, child2])\n",
        "\n",
        "        combined_population = np.vstack((population, new_population))\n",
        "        combined_population = sorted(combined_population, key=function)\n",
        "        population = np.array(combined_population[:len(population)])\n",
        "\n",
        "        NFE += len(new_population)\n",
        "\n",
        "    return population"
      ],
      "metadata": {
        "id": "nVauaoS9a5K9"
      },
      "execution_count": null,
      "outputs": []
    },
    {
      "cell_type": "code",
      "source": [
        "final_population_v2 = RGA_4(population, f1)\n",
        "print(\"Best solution (RGA_4):\", min(final_population_v2, key=f1))"
      ],
      "metadata": {
        "id": "8IXrNgCVbId2",
        "outputId": "c27cbc82-b61b-4c1f-849f-f33b4859ff39",
        "colab": {
          "base_uri": "https://localhost:8080/"
        }
      },
      "execution_count": null,
      "outputs": [
        {
          "output_type": "stream",
          "name": "stdout",
          "text": [
            "Best solution (CGA V2): [-3.05743887e-02  6.22209232e-02 -2.99545163e-02  1.16265863e-02\n",
            "  6.75334746e-03 -8.92766834e-03  2.83640722e-02 -3.70288975e-04\n",
            " -1.44694861e-04  3.59688935e-01]\n"
          ]
        }
      ]
    },
    {
      "cell_type": "markdown",
      "source": [
        "# Lab5"
      ],
      "metadata": {
        "id": "Y8n_zd3eV0kD"
      }
    },
    {
      "cell_type": "code",
      "source": [
        "def DE_best_1_exp(population, function, F=0.8, CR=0.9, max_NFE=1000):\n",
        "    NFE = 0\n",
        "    population_size, no_of_variables = population.shape\n",
        "\n",
        "    while NFE < max_NFE:\n",
        "        new_population = []\n",
        "\n",
        "        for i in range(population_size):\n",
        "            best = min(population, key=function)\n",
        "            r1, r2 = population[np.random.choice(population_size, 2, replace=False)]\n",
        "            mutant = best + F * (r1 - r2)\n",
        "\n",
        "            trial = np.copy(population[i])\n",
        "            start_idx = np.random.randint(no_of_variables)\n",
        "            for j in range(no_of_variables):\n",
        "                if np.random.rand() < CR or j == start_idx:\n",
        "                    trial[j] = mutant[j]\n",
        "\n",
        "            trial = np.clip(trial, -10, 10)\n",
        "\n",
        "            if function(trial) < function(population[i]):\n",
        "                new_population.append(trial)\n",
        "            else:\n",
        "                new_population.append(population[i])\n",
        "\n",
        "        population = np.array(new_population)\n",
        "        NFE += population_size\n",
        "\n",
        "    return population\n"
      ],
      "metadata": {
        "id": "mQKxt7-Xb4OD"
      },
      "execution_count": null,
      "outputs": []
    },
    {
      "cell_type": "code",
      "source": [
        "final_population_v2 = DE_best_1_exp(population, f1)\n",
        "print(\"Best solution (DE_best_1_exp):\", min(final_population_v2, key=f1))"
      ],
      "metadata": {
        "id": "pfsE1VsOcp7I",
        "outputId": "473ce409-70fb-4f3a-daa8-7fd99ccf3639",
        "colab": {
          "base_uri": "https://localhost:8080/"
        }
      },
      "execution_count": null,
      "outputs": [
        {
          "output_type": "stream",
          "name": "stdout",
          "text": [
            "Best solution (DE_best_1_exp): [-0.23885957  0.221679    0.14638907 -0.26745006  0.19292714  0.03546124\n",
            " -0.30634016 -0.19258842 -0.00337336  0.19196741]\n"
          ]
        }
      ]
    },
    {
      "cell_type": "markdown",
      "source": [
        "## Butnaru Teodor"
      ],
      "metadata": {
        "id": "DPOVhqo6Uhp_"
      }
    },
    {
      "cell_type": "markdown",
      "source": [
        "# Lab2"
      ],
      "metadata": {
        "id": "MxwRpimNVcJd"
      }
    },
    {
      "cell_type": "code",
      "source": [
        "def population_v1_self_adaptive(population, function, dimension = 10, max_NFE = 1000):\n",
        "    NFE = 0\n",
        "    iter_no = 0\n",
        "    alfa = [[30, -30] for _ in range(len(population))]\n",
        "\n",
        "    while NFE < max_NFE:\n",
        "        iter_no += 1\n",
        "        alpha = initial_alpha / (iter_no + 1)\n",
        "        new_population = []\n",
        "\n",
        "        for i, agent in enumerate(population):\n",
        "            xm = [\n",
        "                agent[0] + alfa[i][0] * random.uniform(-1, 1),\n",
        "                agent[1] + alfa[i][1] * random.uniform(-1, 1)\n",
        "            ]\n",
        "\n",
        "            if function(agent) > function(xm):\n",
        "                new_population.append(xm)\n",
        "            else:\n",
        "                new_population.append(agent)\n",
        "\n",
        "            alfa[i][0] += alfa[i][0] * random.uniform(-1, 1)\n",
        "            alfa[i][1] += alfa[i][1] * random.uniform(-1, 1)\n",
        "\n",
        "            NFE += len(population)\n",
        "\n",
        "            if NFE >= max_NFE:\n",
        "                break\n",
        "\n",
        "        if sum([function(agent) for agent in new_population]) < sum([function(agent) for agent in population]):\n",
        "            population = new_population\n",
        "\n",
        "        if NFE >= max_NFE:\n",
        "            break\n",
        "\n",
        "    return population"
      ],
      "metadata": {
        "id": "phsFlPxxVd9n"
      },
      "execution_count": 57,
      "outputs": []
    },
    {
      "cell_type": "code",
      "source": [
        "print(\"f1(x):\", population_v1_self_adaptive(population, f1))\n",
        "print(\"f2(x):\", population_v1_self_adaptive(population, f2))\n",
        "print(\"f3(x):\", population_v1_self_adaptive(population, f3))\n",
        "print(\"f4(x):\", population_v1_self_adaptive(population, f4))\n",
        "print(\"f5(x):\", population_v1_self_adaptive(population, f5))"
      ],
      "metadata": {
        "id": "5FSj0RmRfw1M",
        "outputId": "c4fe81a7-1ead-4d05-a05d-cc8a3b3f4f9e",
        "colab": {
          "base_uri": "https://localhost:8080/",
          "height": 376
        }
      },
      "execution_count": 58,
      "outputs": [
        {
          "output_type": "stream",
          "name": "stdout",
          "text": [
            "f1(x): [[-0.028707077560294347, -0.40171296443427756], [-0.4460398638032624, -1.9251323360092654], [-0.2676028936138475, 0.5069977458802547], [-0.8665317398598364, -0.49021084154201466], [0.013984910477110202, -0.5985829750532308]]\n",
            "f2(x): [[0.0034978510649388405, -53.28279388614703], [-0.001555756369914631, 2.051802786658235], [-0.721201471043054, 0.5275964633239242], [10.576728520633068, -413.83455117209303], [-0.006670606245770325, 27.421584489089962]]\n",
            "f3(x): [[-21.596078937035184, -0.07622574081365761], [30.765471785182676, -5.05059929683791e-06], [1.4247516408662964, 0.08199798308355533], [14.261591768961258, -0.7839936501665126], [10.450195144895657, 0.038789596103839495]]\n",
            "f4(x): [[-0.021141690006162867, -0.39905336680017495], [0.0527092615974961, -30.361027632549703], [0.7275174143929293, 0.5401314724802637], [0.22771467686145377, -69.61045491831666], [3.159967332268124, 15.765115744937743]]\n"
          ]
        },
        {
          "output_type": "error",
          "ename": "ValueError",
          "evalue": "operands could not be broadcast together with shapes (2,) (10,10) ",
          "traceback": [
            "\u001b[0;31m---------------------------------------------------------------------------\u001b[0m",
            "\u001b[0;31mValueError\u001b[0m                                Traceback (most recent call last)",
            "\u001b[0;32m<ipython-input-58-e294373049d7>\u001b[0m in \u001b[0;36m<cell line: 5>\u001b[0;34m()\u001b[0m\n\u001b[1;32m      3\u001b[0m \u001b[0mprint\u001b[0m\u001b[0;34m(\u001b[0m\u001b[0;34m\"f3(x):\"\u001b[0m\u001b[0;34m,\u001b[0m \u001b[0mpopulation_v1_self_adaptive\u001b[0m\u001b[0;34m(\u001b[0m\u001b[0mpopulation\u001b[0m\u001b[0;34m,\u001b[0m \u001b[0mf3\u001b[0m\u001b[0;34m)\u001b[0m\u001b[0;34m)\u001b[0m\u001b[0;34m\u001b[0m\u001b[0;34m\u001b[0m\u001b[0m\n\u001b[1;32m      4\u001b[0m \u001b[0mprint\u001b[0m\u001b[0;34m(\u001b[0m\u001b[0;34m\"f4(x):\"\u001b[0m\u001b[0;34m,\u001b[0m \u001b[0mpopulation_v1_self_adaptive\u001b[0m\u001b[0;34m(\u001b[0m\u001b[0mpopulation\u001b[0m\u001b[0;34m,\u001b[0m \u001b[0mf4\u001b[0m\u001b[0;34m)\u001b[0m\u001b[0;34m)\u001b[0m\u001b[0;34m\u001b[0m\u001b[0;34m\u001b[0m\u001b[0m\n\u001b[0;32m----> 5\u001b[0;31m \u001b[0mprint\u001b[0m\u001b[0;34m(\u001b[0m\u001b[0;34m\"f5(x):\"\u001b[0m\u001b[0;34m,\u001b[0m \u001b[0mpopulation_v1_self_adaptive\u001b[0m\u001b[0;34m(\u001b[0m\u001b[0mpopulation\u001b[0m\u001b[0;34m,\u001b[0m \u001b[0mf5\u001b[0m\u001b[0;34m)\u001b[0m\u001b[0;34m)\u001b[0m\u001b[0;34m\u001b[0m\u001b[0;34m\u001b[0m\u001b[0m\n\u001b[0m",
            "\u001b[0;32m<ipython-input-57-6f04dd4dc749>\u001b[0m in \u001b[0;36mpopulation_v1_self_adaptive\u001b[0;34m(population, function, dimension, max_NFE)\u001b[0m\n\u001b[1;32m     15\u001b[0m             ]\n\u001b[1;32m     16\u001b[0m \u001b[0;34m\u001b[0m\u001b[0m\n\u001b[0;32m---> 17\u001b[0;31m             \u001b[0;32mif\u001b[0m \u001b[0mfunction\u001b[0m\u001b[0;34m(\u001b[0m\u001b[0magent\u001b[0m\u001b[0;34m)\u001b[0m \u001b[0;34m>\u001b[0m \u001b[0mfunction\u001b[0m\u001b[0;34m(\u001b[0m\u001b[0mxm\u001b[0m\u001b[0;34m)\u001b[0m\u001b[0;34m:\u001b[0m\u001b[0;34m\u001b[0m\u001b[0;34m\u001b[0m\u001b[0m\n\u001b[0m\u001b[1;32m     18\u001b[0m                 \u001b[0mnew_population\u001b[0m\u001b[0;34m.\u001b[0m\u001b[0mappend\u001b[0m\u001b[0;34m(\u001b[0m\u001b[0mxm\u001b[0m\u001b[0;34m)\u001b[0m\u001b[0;34m\u001b[0m\u001b[0;34m\u001b[0m\u001b[0m\n\u001b[1;32m     19\u001b[0m             \u001b[0;32melse\u001b[0m\u001b[0;34m:\u001b[0m\u001b[0;34m\u001b[0m\u001b[0;34m\u001b[0m\u001b[0m\n",
            "\u001b[0;32m<ipython-input-11-0323a04a3f15>\u001b[0m in \u001b[0;36mf5\u001b[0;34m(x)\u001b[0m\n\u001b[1;32m      5\u001b[0m         \u001b[0mA\u001b[0m \u001b[0;34m=\u001b[0m \u001b[0mnp\u001b[0m\u001b[0;34m.\u001b[0m\u001b[0mrandom\u001b[0m\u001b[0;34m.\u001b[0m\u001b[0mrandint\u001b[0m\u001b[0;34m(\u001b[0m\u001b[0;34m-\u001b[0m\u001b[0;36m500\u001b[0m\u001b[0;34m,\u001b[0m \u001b[0;36m501\u001b[0m\u001b[0;34m,\u001b[0m \u001b[0msize\u001b[0m\u001b[0;34m=\u001b[0m\u001b[0;34m(\u001b[0m\u001b[0mno_of_variables\u001b[0m\u001b[0;34m,\u001b[0m \u001b[0mno_of_variables\u001b[0m\u001b[0;34m)\u001b[0m\u001b[0;34m)\u001b[0m\u001b[0;34m\u001b[0m\u001b[0;34m\u001b[0m\u001b[0m\n\u001b[1;32m      6\u001b[0m \u001b[0;34m\u001b[0m\u001b[0m\n\u001b[0;32m----> 7\u001b[0;31m     \u001b[0;32mreturn\u001b[0m \u001b[0mnp\u001b[0m\u001b[0;34m.\u001b[0m\u001b[0mmax\u001b[0m\u001b[0;34m(\u001b[0m\u001b[0mnp\u001b[0m\u001b[0;34m.\u001b[0m\u001b[0mabs\u001b[0m\u001b[0;34m(\u001b[0m\u001b[0mx\u001b[0m\u001b[0;34m*\u001b[0m\u001b[0mA\u001b[0m \u001b[0;34m-\u001b[0m \u001b[0mA\u001b[0m\u001b[0;34m)\u001b[0m\u001b[0;34m)\u001b[0m\u001b[0;34m\u001b[0m\u001b[0;34m\u001b[0m\u001b[0m\n\u001b[0m",
            "\u001b[0;31mValueError\u001b[0m: operands could not be broadcast together with shapes (2,) (10,10) "
          ]
        }
      ]
    },
    {
      "cell_type": "markdown",
      "source": [
        "# Lab3"
      ],
      "metadata": {
        "id": "OI4YEyrMUuOl"
      }
    },
    {
      "cell_type": "code",
      "source": [
        "def pc_function_fit(avg_fitness):\n",
        "    return max(0.5, 1 / (1 + avg_fitness))\n",
        "\n",
        "def pm_function_fit(avg_fitness):\n",
        "    return min(0.1, 1 / (1 + avg_fitness))\n",
        "\n",
        "def sphere_function_fit(agent):\n",
        "    return sum(x**2 for x in agent)"
      ],
      "metadata": {
        "id": "WWWtxw-ufZuV"
      },
      "execution_count": 41,
      "outputs": []
    },
    {
      "cell_type": "code",
      "source": [
        "def CGA_adaptiveV2_greedy(population, function ,dimension, pc_function = pc_function_fit, pm_function = pm_function_fit, max_NFE = 1000):\n",
        "    NFE = 0\n",
        "    max_NFE = 1000\n",
        "    iter_no = 0\n",
        "\n",
        "    while NFE < max_NFE:\n",
        "        iter_no += 1\n",
        "\n",
        "        # Calculate fitness-based probabilities (pc and pm) based on the population\n",
        "        avg_fitness = np.mean([function(agent) for agent in population])\n",
        "\n",
        "        # Adjust pc and pm based on average fitness\n",
        "        pc = pc_function_fit(avg_fitness)\n",
        "        pm = pm_function_fit(avg_fitness)\n",
        "\n",
        "        new_population = []\n",
        "        for i in range(len(population)):\n",
        "            parent1 = population[i]\n",
        "            parent2 = population[np.random.randint(len(population))]\n",
        "\n",
        "            # Crossover\n",
        "            if np.random.rand() < pc:\n",
        "                crossover_point = np.random.randint(1, dimension - 1)\n",
        "                child = np.concatenate((parent1[:crossover_point], parent2[crossover_point:]))\n",
        "            else:\n",
        "                child = parent1.copy()\n",
        "\n",
        "            # Mutation\n",
        "            if np.random.rand() < pm:\n",
        "                mutation_idx = np.random.randint(dimension)\n",
        "                child[mutation_idx] += np.random.normal()\n",
        "\n",
        "            new_population.append(child)\n",
        "\n",
        "        # Sort the new population based on fitness (function value)\n",
        "        new_population.sort(key=function)\n",
        "\n",
        "        # Preserve the best solution (elitism)\n",
        "        best_parent = min(population, key=function)\n",
        "        new_population[-1] = best_parent  # Replace worst solution with best solution\n",
        "\n",
        "        # Update population\n",
        "        population = new_population\n",
        "\n",
        "        # Update NFE count (each agent's fitness is evaluated once)\n",
        "        NFE += len(new_population)\n",
        "\n",
        "    return population"
      ],
      "metadata": {
        "id": "HuoqZAfRUhRn"
      },
      "execution_count": 40,
      "outputs": []
    },
    {
      "cell_type": "code",
      "source": [
        "final_population = CGA_adaptiveV2_greedy(pc_function, pm_function, population, sphere_function_fit, no_of_variables)\n",
        "print(\"Best solution (CGA):\", min(final_population, key=sphere_function))"
      ],
      "metadata": {
        "id": "QC5eSFJwcoLQ",
        "outputId": "2ce1e2ff-9746-47df-8e5a-02a3284849f7",
        "colab": {
          "base_uri": "https://localhost:8080/"
        }
      },
      "execution_count": 42,
      "outputs": [
        {
          "output_type": "stream",
          "name": "stdout",
          "text": [
            "Best solution (CGA): [-0.14124297  0.04880993 -0.12926254 -0.42057245  0.00310515  0.14709243\n",
            "  0.02929361  0.01432609 -0.30452415  0.18803122]\n"
          ]
        }
      ]
    },
    {
      "cell_type": "markdown",
      "source": [
        "# Lab4"
      ],
      "metadata": {
        "id": "yAzFFgPnUv2u"
      }
    },
    {
      "cell_type": "code",
      "source": [
        "def RGA_3(population, function, dimension, pc = 0.8, pm = 0.1, max_NFE = 1000):\n",
        "    NFE = 0\n",
        "\n",
        "    while NFE < max_NFE:\n",
        "\n",
        "        fitness_values = np.array([function(individual) for individual in population])\n",
        "        NFE += len(population)\n",
        "\n",
        "        new_population = []\n",
        "\n",
        "        for _ in range(len(population) // 2):\n",
        "\n",
        "            parent1 = population[np.random.randint(len(population))]\n",
        "            parent2 = population[np.random.randint(len(population))]\n",
        "\n",
        "            if np.random.rand() < pc:\n",
        "                d = np.abs(parent1 - parent2)\n",
        "                lower = np.minimum(parent1, parent2) - 0.5 * d\n",
        "                upper = np.maximum(parent1, parent2) + 0.5 * d\n",
        "                child1 = np.random.uniform(lower, upper)\n",
        "                child2 = np.random.uniform(lower, upper)\n",
        "            else:\n",
        "                child1, child2 = parent1.copy(), parent2.copy()\n",
        "\n",
        "            if np.random.rand() < pm:\n",
        "                mutation_idx = np.random.randint(dimension)\n",
        "                child1[mutation_idx] += np.random.normal()\n",
        "\n",
        "            if np.random.rand() < pm:\n",
        "                mutation_idx = np.random.randint(dimension)\n",
        "                child2[mutation_idx] += np.random.normal()\n",
        "\n",
        "            new_population.extend([child1, child2])\n",
        "\n",
        "        new_population.sort(key=function)\n",
        "        population = new_population[:len(population)]\n",
        "\n",
        "    best_solution = min(population, key=function)\n",
        "    return best_solution, function(best_solution), NFE\n"
      ],
      "metadata": {
        "id": "hK6vNsPkUypB"
      },
      "execution_count": 22,
      "outputs": []
    },
    {
      "cell_type": "code",
      "source": [
        "\n",
        "best_solution, best_fitness, nfe_used = RGA_3(\n",
        "    pc=0.8,\n",
        "    pm=0.1,\n",
        "    population=population,\n",
        "    function=f1,\n",
        "    dimension=no_of_variables\n",
        ")\n",
        "\n",
        "print(\"Best Solution:\", best_solution)\n",
        "print(\"Best Fitness:\", best_fitness)\n",
        "print(\"Number of Function Evaluations:\", nfe_used)"
      ],
      "metadata": {
        "id": "gxM9niWbU3w4",
        "outputId": "0efd710d-2cd8-43ea-ce55-ff32f22932da",
        "colab": {
          "base_uri": "https://localhost:8080/"
        }
      },
      "execution_count": 24,
      "outputs": [
        {
          "output_type": "stream",
          "name": "stdout",
          "text": [
            "Best Solution: [ 0.76532856  1.03264963 -1.77842379  0.79206066  0.19735348  2.13655596\n",
            " -1.89392779  0.19496101  0.95186293 -0.75241319]\n",
            "Best Fitness: 15.143204964954823\n",
            "Number of Function Evaluations: 1001\n"
          ]
        }
      ]
    },
    {
      "cell_type": "markdown",
      "source": [
        "# Lab5"
      ],
      "metadata": {
        "id": "gIjw9sTWU0A_"
      }
    },
    {
      "cell_type": "code",
      "source": [
        "def DE_rand_to_best_1_exp(population, function, dimension, F = 0.5, CR = 0.9,  max_NFE = 1000):\n",
        "    NFE = 0\n",
        "    population_size = len(population)\n",
        "\n",
        "    while NFE < max_NFE:\n",
        "        fitness_values = np.array([function(ind) for ind in population])\n",
        "        best_idx = np.argmin(fitness_values)\n",
        "        best_individual = population[best_idx]\n",
        "        NFE += len(population)\n",
        "\n",
        "        new_population = []\n",
        "\n",
        "        for i in range(population_size):\n",
        "            x_rand = population[np.random.randint(population_size)]\n",
        "            x1, x2 = population[np.random.choice([j for j in range(population_size) if j != i], size=2, replace=False)]\n",
        "            mutant_vector = x_rand + F * (best_individual - x_rand) + F * (x1 - x2)\n",
        "\n",
        "            trial_vector = population[i].copy()\n",
        "            start_index = np.random.randint(dimension)\n",
        "            length = 0\n",
        "            while np.random.rand() < CR and length < dimension:\n",
        "                trial_vector[(start_index + length) % dimension] = mutant_vector[(start_index + length) % dimension]\n",
        "                length += 1\n",
        "\n",
        "            if function(trial_vector) < fitness_values[i]:\n",
        "                new_population.append(trial_vector)\n",
        "            else:\n",
        "                new_population.append(population[i])\n",
        "\n",
        "        population = np.array(new_population)\n",
        "\n",
        "    final_fitness_values = np.array([function(ind) for ind in population])\n",
        "    best_idx = np.argmin(final_fitness_values)\n",
        "    return population[best_idx], final_fitness_values[best_idx], NFE\n"
      ],
      "metadata": {
        "id": "ynIGGoeaU13P"
      },
      "execution_count": 51,
      "outputs": []
    },
    {
      "cell_type": "code",
      "source": [
        "best_solution, best_fitness, nfe_used = DE_rand_to_best_1_exp(\n",
        "    F=0.5,\n",
        "    CR=0.9,\n",
        "    population=population,\n",
        "    function=f2,\n",
        "    dimension=no_of_variables\n",
        ")\n",
        "\n",
        "print(\"Best Solution:\", best_solution)\n",
        "print(\"Best Fitness:\", best_fitness)\n",
        "print(\"Number of Function Evaluations:\", nfe_used)"
      ],
      "metadata": {
        "id": "L7h7W2GAU5lI",
        "outputId": "bae4c7e2-217b-423d-ab19-a502f6768046",
        "colab": {
          "base_uri": "https://localhost:8080/"
        }
      },
      "execution_count": 52,
      "outputs": [
        {
          "output_type": "stream",
          "name": "stdout",
          "text": [
            "Best Solution: [ 0.25040852  0.20740308  0.3478378  -0.15882257 -0.90409665 -0.47458761\n",
            " -0.08317977  0.86823301 -0.29076429  0.04735704]\n",
            "Best Fitness: 2.6651090402251234\n",
            "Number of Function Evaluations: 1000\n"
          ]
        }
      ]
    },
    {
      "cell_type": "markdown",
      "source": [
        "**Laboratory 6. Testing meta-heuristics**"
      ],
      "metadata": {
        "id": "VmUW0eC3WXkj"
      }
    },
    {
      "cell_type": "code",
      "source": [
        "D = [5, 10]\n",
        "NEF = 1000\n",
        "\n",
        "functions ="
      ],
      "metadata": {
        "id": "iw9xGhYjWWw-"
      },
      "execution_count": null,
      "outputs": []
    }
  ]
}