{
  "nbformat": 4,
  "nbformat_minor": 0,
  "metadata": {
    "colab": {
      "provenance": [],
      "include_colab_link": true
    },
    "kernelspec": {
      "name": "python3",
      "display_name": "Python 3"
    },
    "language_info": {
      "name": "python"
    }
  },
  "cells": [
    {
      "cell_type": "markdown",
      "metadata": {
        "id": "view-in-github",
        "colab_type": "text"
      },
      "source": [
        "<a href=\"https://colab.research.google.com/github/FCosmin27/ocs/blob/main/main.ipynb\" target=\"_parent\"><img src=\"https://colab.research.google.com/assets/colab-badge.svg\" alt=\"Open In Colab\"/></a>"
      ]
    },
    {
      "cell_type": "code",
      "execution_count": null,
      "metadata": {
        "id": "tjSYtHF2S9_m"
      },
      "outputs": [],
      "source": [
        "import numpy as np\n",
        "import random"
      ]
    },
    {
      "cell_type": "code",
      "source": [
        "upper_bound = 100\n",
        "lower_bound = -100\n",
        "no_of_variables = 10"
      ],
      "metadata": {
        "id": "rnwQSE8vTXgr"
      },
      "execution_count": null,
      "outputs": []
    },
    {
      "cell_type": "code",
      "source": [
        "def check_x(x):\n",
        "    for i in range(len(x)):\n",
        "        if x[i] > upper_bound:\n",
        "            x[i] = upper_bound\n",
        "        elif x[i] < lower_bound:\n",
        "            x[i] = lower_bound\n",
        "    return x"
      ],
      "metadata": {
        "id": "J8hQyFcqTZaf"
      },
      "execution_count": null,
      "outputs": []
    },
    {
      "cell_type": "code",
      "source": [
        "x = np.random.normal(size=no_of_variables)\n",
        "\n",
        "x = check_x(x)\n",
        "print(x)"
      ],
      "metadata": {
        "colab": {
          "base_uri": "https://localhost:8080/"
        },
        "id": "rQUMPzvaTatT",
        "outputId": "f4a349c1-9709-4c0c-f68d-d5a48edfa760"
      },
      "execution_count": null,
      "outputs": [
        {
          "output_type": "stream",
          "name": "stdout",
          "text": [
            "[ 1.39647607  0.05952313  0.0163228  -0.20732874 -0.05416054  1.77906818\n",
            "  2.21661906  0.0672337  -0.44894654  0.68630529]\n"
          ]
        }
      ]
    },
    {
      "cell_type": "code",
      "source": [
        "def f1(x):\n",
        "    return np.sum(np.square(x))"
      ],
      "metadata": {
        "id": "FcdAXvYHTbyJ"
      },
      "execution_count": null,
      "outputs": []
    },
    {
      "cell_type": "code",
      "source": [
        "def f2(x):\n",
        "    result = 0\n",
        "    for i in range(no_of_variables):\n",
        "        tmp = 0\n",
        "        for j in range(i):\n",
        "            tmp += x[j]\n",
        "\n",
        "        result += tmp**2\n",
        "\n",
        "    return result"
      ],
      "metadata": {
        "id": "ECqRLdzjTcux"
      },
      "execution_count": null,
      "outputs": []
    },
    {
      "cell_type": "code",
      "source": [
        "def f3(x):\n",
        "    result = 0\n",
        "    for i in range(1, no_of_variables):\n",
        "        result += 1e6 ** ((i-1)/(no_of_variables-1)) * x[i]**2\n",
        "\n",
        "    return result"
      ],
      "metadata": {
        "id": "4zGXZFRbTdcy"
      },
      "execution_count": null,
      "outputs": []
    },
    {
      "cell_type": "code",
      "source": [
        "def f4(x):\n",
        "    result = 0\n",
        "    for i in range(no_of_variables):\n",
        "        tmp = 0\n",
        "        for j in range(i):\n",
        "            tmp += x[j]\n",
        "\n",
        "        result += tmp**2\n",
        "\n",
        "    return result * (1 + 0.4 * np.abs(np.random.randn()))"
      ],
      "metadata": {
        "id": "N7Vrpv1yTeIV"
      },
      "execution_count": null,
      "outputs": []
    },
    {
      "cell_type": "code",
      "source": [
        "def f5(x):\n",
        "    A = np.random.randint(-500, 501, size=(no_of_variables, no_of_variables))\n",
        "\n",
        "    while np.linalg.det(A) == 0:\n",
        "        A = np.random.randint(-500, 501, size=(no_of_variables, no_of_variables))\n",
        "\n",
        "    return np.max(np.abs(x*A - A))"
      ],
      "metadata": {
        "id": "FuWB7S4ETfKq"
      },
      "execution_count": null,
      "outputs": []
    },
    {
      "cell_type": "code",
      "source": [
        "print(\"f1(x):\", f1(x))\n",
        "print(\"f2(x):\", f2(x))\n",
        "print(\"f3(x):\", f3(x))\n",
        "print(\"f4(x):\", f4(x))\n",
        "print(\"f5(x):\", f5(x))"
      ],
      "metadata": {
        "id": "I0Uo8-kpTgF1"
      },
      "execution_count": null,
      "outputs": []
    },
    {
      "cell_type": "code",
      "source": [
        "def calculate_min_x(func, no_of_agents, x, es, alpha):\n",
        "    min_x = x\n",
        "    for _ in range(es):\n",
        "        xm = min_x + alpha * np.random.normal(size=no_of_variables)\n",
        "        xm = check_x(xm)\n",
        "        if func(xm) < func(min_x):\n",
        "            min_x = xm\n",
        "    return min_x"
      ],
      "metadata": {
        "id": "IFN4F8E2Tgxs"
      },
      "execution_count": null,
      "outputs": []
    },
    {
      "cell_type": "code",
      "source": [
        "def get_population(number_of_variables, population_size):\n",
        "    return np.random.normal(size=(population_size, number_of_variables))"
      ],
      "metadata": {
        "id": "eDBJB0FtThuX"
      },
      "execution_count": null,
      "outputs": []
    },
    {
      "cell_type": "code",
      "source": [
        "initial_alpha = 0.5\n",
        "no_of_variables = 10\n",
        "population_size = 5\n",
        "iterations = 100\n",
        "functions = [f1, f2, f3, f4, f5]\n",
        "population = get_population(no_of_variables, population_size)"
      ],
      "metadata": {
        "id": "4TX84k7UTins"
      },
      "execution_count": null,
      "outputs": []
    },
    {
      "cell_type": "markdown",
      "source": [
        "# Lab2"
      ],
      "metadata": {
        "id": "3RaDW_o7Vv1c"
      }
    },
    {
      "cell_type": "code",
      "source": [
        "def population_v2_adaptive(population, function):\n",
        "    for iter_no in range(iterations):\n",
        "        alpha = initial_alpha / (iter_no + 1)\n",
        "        new_population = []\n",
        "\n",
        "        for agent in population:\n",
        "            new_agents = [agent + alpha * np.random.normal(size=no_of_variables) for _ in range(5)]\n",
        "            best_agent = min(new_agents, key=lambda x: function(x))\n",
        "            new_population.append(best_agent)\n",
        "\n",
        "        if sum([function(agent) for agent in new_population]) < sum([function(agent) for agent in population]):\n",
        "            population = new_population\n",
        "\n",
        "    return population"
      ],
      "metadata": {
        "id": "7vEG8FriTjaQ"
      },
      "execution_count": null,
      "outputs": []
    },
    {
      "cell_type": "code",
      "source": [
        "print(\"f1(x):\", population_v2_adaptive(population, f1))\n",
        "print(\"f2(x):\", population_v2_adaptive(population, f2))\n",
        "print(\"f3(x):\", population_v2_adaptive(population, f3))\n",
        "print(\"f4(x):\", population_v2_adaptive(population, f4))\n",
        "print(\"f5(x):\", population_v2_adaptive(population, f5))"
      ],
      "metadata": {
        "id": "rS7ayMoGTkKe"
      },
      "execution_count": null,
      "outputs": []
    },
    {
      "cell_type": "code",
      "source": [
        "for idx, population in enumerate(population_v2_adaptive()):\n",
        "    print(\"Function\", idx+1)\n",
        "    for agent in population:\n",
        "        print(agent, f1(agent))\n"
      ],
      "metadata": {
        "id": "yHFnDa42TlY_"
      },
      "execution_count": null,
      "outputs": []
    },
    {
      "cell_type": "code",
      "source": [
        "def pc_function(iter_no):\n",
        "    return max(0.5, 1 / (1 + iter_no))"
      ],
      "metadata": {
        "id": "-4N3CvfRXPZ7"
      },
      "execution_count": null,
      "outputs": []
    },
    {
      "cell_type": "code",
      "source": [
        "def pm_function(iter_no):\n",
        "    return max(0.01, 0.1 / (1 + iter_no))"
      ],
      "metadata": {
        "id": "b_Rgobw2XNnm"
      },
      "execution_count": null,
      "outputs": []
    },
    {
      "cell_type": "code",
      "source": [
        "def sphere_function(x):\n",
        "    return np.sum(np.square(x))"
      ],
      "metadata": {
        "id": "hUjvlS7KXIey"
      },
      "execution_count": null,
      "outputs": []
    },
    {
      "cell_type": "markdown",
      "source": [
        "# Lab3"
      ],
      "metadata": {
        "id": "tijrT1NcVxl0"
      }
    },
    {
      "cell_type": "code",
      "source": [
        "def CGA_adaptiveV1_greedy(pc_function, pm_function, population, function, no_of_variables):\n",
        "    NFE = 0\n",
        "    max_NFE = 1000\n",
        "    iter_no = 0\n",
        "\n",
        "    while NFE < max_NFE:\n",
        "        iter_no += 1\n",
        "        pc = pc_function(iter_no)\n",
        "        pm = pm_function(iter_no)\n",
        "\n",
        "        new_population = []\n",
        "        for i in range(len(population)):\n",
        "            parent1 = population[i]\n",
        "            parent2 = population[np.random.randint(len(population))]\n",
        "\n",
        "            if np.random.rand() < pc:\n",
        "                crossover_point = np.random.randint(1, no_of_variables - 1)\n",
        "                child = np.concatenate((parent1[:crossover_point], parent2[crossover_point:]))\n",
        "            else:\n",
        "                child = parent1.copy()\n",
        "\n",
        "            if np.random.rand() < pm:\n",
        "                mutation_idx = np.random.randint(no_of_variables)\n",
        "                child[mutation_idx] += np.random.normal()\n",
        "\n",
        "            new_population.append(child)\n",
        "\n",
        "        new_population.sort(key=function)\n",
        "        best_parent = min(population, key=function)\n",
        "        new_population[-1] = best_parent\n",
        "\n",
        "        population = new_population\n",
        "\n",
        "        NFE += len(new_population)\n",
        "\n",
        "    return population"
      ],
      "metadata": {
        "id": "S-roH1JNUK6l"
      },
      "execution_count": null,
      "outputs": []
    },
    {
      "cell_type": "code",
      "source": [
        "final_population = CGA_adaptiveV1_greedy(pc_function, pm_function, population, sphere_function, no_of_variables)\n",
        "print(\"Best solution (CGA):\", min(final_population, key=sphere_function))\n"
      ],
      "metadata": {
        "colab": {
          "base_uri": "https://localhost:8080/"
        },
        "id": "igPynvsoXDR1",
        "outputId": "d3d65dca-c993-45c0-b3ce-0ec90fd469bb"
      },
      "execution_count": null,
      "outputs": [
        {
          "output_type": "stream",
          "name": "stdout",
          "text": [
            "Best solution (CGA): [-0.49011166  0.07608145 -0.69306099 -1.15093236 -0.16511177  0.05238892\n",
            " -0.32661151  0.01738802  0.38317513  0.32700305]\n"
          ]
        }
      ]
    },
    {
      "cell_type": "code",
      "source": [
        "def pc_function_fitness(fitness):\n",
        "    return 0.5 + 0.4 * fitness"
      ],
      "metadata": {
        "id": "FRIlQo36YdHF"
      },
      "execution_count": null,
      "outputs": []
    },
    {
      "cell_type": "code",
      "source": [
        "def pm_function_fitness(fitness):\n",
        "    return 0.1 - 0.08 * fitness"
      ],
      "metadata": {
        "id": "zvH2V_jkYfFQ"
      },
      "execution_count": null,
      "outputs": []
    },
    {
      "cell_type": "markdown",
      "source": [
        "# Lab4"
      ],
      "metadata": {
        "id": "NfbgfECHVzHk"
      }
    },
    {
      "cell_type": "code",
      "source": [
        "def RGA_4(population, function, pc=0.9, pm=0.1, max_NFE=1000):\n",
        "    NFE = 0\n",
        "    no_of_variables = population.shape[1]\n",
        "    while NFE < max_NFE:\n",
        "        new_population = []\n",
        "        for _ in range(len(population) // 2):\n",
        "            parent1, parent2 = population[np.random.choice(len(population), 2, replace=False)]\n",
        "\n",
        "            if np.random.rand() < pc:\n",
        "                alpha = 0.1\n",
        "                child1 = np.random.uniform(np.minimum(parent1, parent2) - alpha * np.abs(parent1 - parent2),\n",
        "                                           np.maximum(parent1, parent2) + alpha * np.abs(parent1 - parent2))\n",
        "                child2 = np.random.uniform(np.minimum(parent1, parent2) - alpha * np.abs(parent1 - parent2),\n",
        "                                           np.maximum(parent1, parent2) + alpha * np.abs(parent1 - parent2))\n",
        "            else:\n",
        "                child1, child2 = parent1.copy(), parent2.copy()\n",
        "\n",
        "            if np.random.rand() < pm:\n",
        "                mutation_idx = np.random.randint(no_of_variables)\n",
        "                child1[mutation_idx] += np.random.normal()\n",
        "            if np.random.rand() < pm:\n",
        "                mutation_idx = np.random.randint(no_of_variables)\n",
        "                child2[mutation_idx] += np.random.normal()\n",
        "\n",
        "            child1 = np.clip(child1, -10, 10)\n",
        "            child2 = np.clip(child2, -10, 10)\n",
        "\n",
        "            new_population.extend([child1, child2])\n",
        "\n",
        "        combined_population = np.vstack((population, new_population))\n",
        "        combined_population = sorted(combined_population, key=function)\n",
        "        population = np.array(combined_population[:len(population)])\n",
        "\n",
        "        NFE += len(new_population)\n",
        "\n",
        "    return population"
      ],
      "metadata": {
        "id": "nVauaoS9a5K9"
      },
      "execution_count": null,
      "outputs": []
    },
    {
      "cell_type": "code",
      "source": [
        "final_population_v2 = RGA_4(population, f1)\n",
        "print(\"Best solution (RGA_4):\", min(final_population_v2, key=f1))"
      ],
      "metadata": {
        "id": "8IXrNgCVbId2",
        "outputId": "c27cbc82-b61b-4c1f-849f-f33b4859ff39",
        "colab": {
          "base_uri": "https://localhost:8080/"
        }
      },
      "execution_count": null,
      "outputs": [
        {
          "output_type": "stream",
          "name": "stdout",
          "text": [
            "Best solution (CGA V2): [-3.05743887e-02  6.22209232e-02 -2.99545163e-02  1.16265863e-02\n",
            "  6.75334746e-03 -8.92766834e-03  2.83640722e-02 -3.70288975e-04\n",
            " -1.44694861e-04  3.59688935e-01]\n"
          ]
        }
      ]
    },
    {
      "cell_type": "markdown",
      "source": [
        "# Lab5"
      ],
      "metadata": {
        "id": "Y8n_zd3eV0kD"
      }
    },
    {
      "cell_type": "code",
      "source": [
        "def DE_best_1_exp(population, function, F=0.8, CR=0.9, max_NFE=1000):\n",
        "    NFE = 0\n",
        "    population_size, no_of_variables = population.shape\n",
        "\n",
        "    while NFE < max_NFE:\n",
        "        new_population = []\n",
        "\n",
        "        for i in range(population_size):\n",
        "            best = min(population, key=function)\n",
        "            r1, r2 = population[np.random.choice(population_size, 2, replace=False)]\n",
        "            mutant = best + F * (r1 - r2)\n",
        "\n",
        "            trial = np.copy(population[i])\n",
        "            start_idx = np.random.randint(no_of_variables)\n",
        "            for j in range(no_of_variables):\n",
        "                if np.random.rand() < CR or j == start_idx:\n",
        "                    trial[j] = mutant[j]\n",
        "\n",
        "            trial = np.clip(trial, -10, 10)\n",
        "\n",
        "            if function(trial) < function(population[i]):\n",
        "                new_population.append(trial)\n",
        "            else:\n",
        "                new_population.append(population[i])\n",
        "\n",
        "        population = np.array(new_population)\n",
        "        NFE += population_size\n",
        "\n",
        "    return population\n"
      ],
      "metadata": {
        "id": "mQKxt7-Xb4OD"
      },
      "execution_count": null,
      "outputs": []
    },
    {
      "cell_type": "code",
      "source": [
        "final_population_v2 = DE_best_1_exp(population, f1)\n",
        "print(\"Best solution (DE_best_1_exp):\", min(final_population_v2, key=f1))"
      ],
      "metadata": {
        "id": "pfsE1VsOcp7I",
        "outputId": "473ce409-70fb-4f3a-daa8-7fd99ccf3639",
        "colab": {
          "base_uri": "https://localhost:8080/"
        }
      },
      "execution_count": null,
      "outputs": [
        {
          "output_type": "stream",
          "name": "stdout",
          "text": [
            "Best solution (DE_best_1_exp): [-0.23885957  0.221679    0.14638907 -0.26745006  0.19292714  0.03546124\n",
            " -0.30634016 -0.19258842 -0.00337336  0.19196741]\n"
          ]
        }
      ]
    },
    {
      "cell_type": "markdown",
      "source": [
        "## Butnaru Teodor"
      ],
      "metadata": {
        "id": "DPOVhqo6Uhp_"
      }
    },
    {
      "cell_type": "markdown",
      "source": [
        "# Lab2"
      ],
      "metadata": {
        "id": "MxwRpimNVcJd"
      }
    },
    {
      "cell_type": "code",
      "source": [
        "def Population_V1_selfAdaptive(nr_iter, nr_agents, start_pt):\n",
        "\n",
        "    population = [start_pt[:] for _ in range(nr_agents)]\n",
        "    alfa = [[30, -30] for _ in range(nr_agents)]\n",
        "    min_value = 0\n",
        "\n",
        "\n",
        "    for iter in range(nr_iter):\n",
        "        for i in range(nr_agents):\n",
        "            xm = [\n",
        "                population[i][0] + alfa[i][0] * random.uniform(-1, 1),\n",
        "                population[i][1] + alfa[i][1] * random.uniform(-1, 1)\n",
        "            ]\n",
        "\n",
        "            if evaluate_oracle(population[i]) > evaluate_oracle(xm):\n",
        "                population[i] = xm\n",
        "\n",
        "            alfa[i][0] += alfa[i][0] * random.uniform(-1, 1)\n",
        "            alfa[i][1] += alfa[i][1] * random.uniform(-1, 1)\n",
        "\n",
        "    min_pt = population[0]\n",
        "    for pt in population:\n",
        "      if evaluate_oracle(pt)<evaluate_oracle(min_pt):\n",
        "        min_pt = pt\n",
        "    return min_pt\n",
        "\n",
        "nr_iter = 10000\n",
        "nr_agents = 40\n",
        "start_pt = [30, -50]\n",
        "\n",
        "best_solution = Population_V1_selfAdaptive(nr_iter, nr_agents, start_pt)\n",
        "print(f\"Best solution found: {best_solution}\")\n"
      ],
      "metadata": {
        "id": "phsFlPxxVd9n"
      },
      "execution_count": null,
      "outputs": []
    },
    {
      "cell_type": "markdown",
      "source": [
        "# Lab3"
      ],
      "metadata": {
        "id": "OI4YEyrMUuOl"
      }
    },
    {
      "cell_type": "code",
      "source": [
        "def CGA_adaptiveV2_greedy(pc_function, pm_function, population, function, no_of_variables):\n",
        "    NFE = 0\n",
        "    max_NFE = 1000\n",
        "\n",
        "    while NFE < max_NFE:\n",
        "        fitness_values = np.array([function(individual) for individual in population])\n",
        "        max_fitness = np.max(fitness_values)\n",
        "        min_fitness = np.min(fitness_values)\n",
        "\n",
        "        normalized_fitness = (max_fitness - fitness_values) / (max_fitness - min_fitness + 1e-10)\n",
        "\n",
        "        pc = pc_function(normalized_fitness)\n",
        "        pm = pm_function(normalized_fitness)\n",
        "\n",
        "        new_population = []\n",
        "        for i in range(len(population)):\n",
        "            parent1 = population[i]\n",
        "            parent2 = population[np.random.randint(len(population))]\n",
        "\n",
        "            if np.random.rand() < pc[i]:\n",
        "                crossover_point = np.random.randint(1, no_of_variables - 1)\n",
        "                child = np.concatenate((parent1[:crossover_point], parent2[crossover_point:]))\n",
        "            else:\n",
        "                child = parent1.copy()\n",
        "\n",
        "            if np.random.rand() < pm[i]:\n",
        "                mutation_idx = np.random.randint(no_of_variables)\n",
        "                child[mutation_idx] += np.random.normal()\n",
        "\n",
        "            new_population.append(child)\n",
        "\n",
        "        new_population.sort(key=function)\n",
        "        best_parent = min(population, key=function)\n",
        "        new_population[-1] = best_parent\n",
        "\n",
        "        population = new_population\n",
        "\n",
        "        NFE += len(new_population)\n",
        "\n",
        "    return population"
      ],
      "metadata": {
        "id": "HuoqZAfRUhRn"
      },
      "execution_count": null,
      "outputs": []
    },
    {
      "cell_type": "markdown",
      "source": [
        "# Lab4"
      ],
      "metadata": {
        "id": "yAzFFgPnUv2u"
      }
    },
    {
      "cell_type": "code",
      "source": [
        "def RGA_3(pc, pm, population, function, no_of_variables):\n",
        "    NFE = 0\n",
        "    max_NFE = 1000\n",
        "\n",
        "    while NFE < max_NFE:\n",
        "        # Fitness Evaluation\n",
        "        fitness_values = np.array([function(individual) for individual in population])\n",
        "        NFE += len(population)\n",
        "\n",
        "        new_population = []\n",
        "\n",
        "        # Generate Offspring\n",
        "        for _ in range(len(population) // 2):\n",
        "            # Parent Selection\n",
        "            parent1 = population[np.random.randint(len(population))]\n",
        "            parent2 = population[np.random.randint(len(population))]\n",
        "\n",
        "            # Crossover (BLX-0.5)\n",
        "            if np.random.rand() < pc:\n",
        "                d = np.abs(parent1 - parent2)\n",
        "                lower = np.minimum(parent1, parent2) - 0.5 * d\n",
        "                upper = np.maximum(parent1, parent2) + 0.5 * d\n",
        "                child1 = np.random.uniform(lower, upper)\n",
        "                child2 = np.random.uniform(lower, upper)\n",
        "            else:\n",
        "                child1, child2 = parent1.copy(), parent2.copy()\n",
        "\n",
        "            # Mutation\n",
        "            if np.random.rand() < pm:\n",
        "                mutation_idx = np.random.randint(no_of_variables)\n",
        "                child1[mutation_idx] += np.random.normal()\n",
        "\n",
        "            if np.random.rand() < pm:\n",
        "                mutation_idx = np.random.randint(no_of_variables)\n",
        "                child2[mutation_idx] += np.random.normal()\n",
        "\n",
        "            # Add to new population\n",
        "            new_population.extend([child1, child2])\n",
        "\n",
        "        # Replacement\n",
        "        new_population.sort(key=function)\n",
        "        population = new_population[:len(population)]\n",
        "\n",
        "    # Return best solution\n",
        "    best_solution = min(population, key=function)\n",
        "    return best_solution, function(best_solution), NFE\n"
      ],
      "metadata": {
        "id": "hK6vNsPkUypB"
      },
      "execution_count": null,
      "outputs": []
    },
    {
      "cell_type": "code",
      "source": [
        "# Run RGA_3\n",
        "best_solution, best_fitness, nfe_used = RGA_3(\n",
        "    pc=0.8,\n",
        "    pm=0.1,\n",
        "    population=population,\n",
        "    function=f1,\n",
        "    no_of_variables=no_of_variables\n",
        ")\n",
        "\n",
        "print(\"Best Solution:\", best_solution)\n",
        "print(\"Best Fitness:\", best_fitness)\n",
        "print(\"Number of Function Evaluations:\", nfe_used)"
      ],
      "metadata": {
        "id": "gxM9niWbU3w4"
      },
      "execution_count": null,
      "outputs": []
    },
    {
      "cell_type": "markdown",
      "source": [
        "# Lab5"
      ],
      "metadata": {
        "id": "gIjw9sTWU0A_"
      }
    },
    {
      "cell_type": "code",
      "source": [
        "def DE_rand_to_best_1_exp(F, CR, population, function, no_of_variables):\n",
        "    NFE = 0\n",
        "    max_NFE = 1000\n",
        "    population_size = len(population)\n",
        "\n",
        "    while NFE < max_NFE:\n",
        "        fitness_values = np.array([function(ind) for ind in population])\n",
        "        best_idx = np.argmin(fitness_values)\n",
        "        best_individual = population[best_idx]\n",
        "        NFE += len(population)\n",
        "\n",
        "        new_population = []\n",
        "\n",
        "        for i in range(population_size):\n",
        "            # Mutation: rand-to-best/1\n",
        "            x_rand = population[np.random.randint(population_size)]\n",
        "            x1, x2 = population[np.random.choice([j for j in range(population_size) if j != i], size=2, replace=False)]\n",
        "            mutant_vector = x_rand + F * (best_individual - x_rand) + F * (x1 - x2)\n",
        "\n",
        "            # Crossover: Exponential\n",
        "            trial_vector = population[i].copy()\n",
        "            start_index = np.random.randint(no_of_variables)\n",
        "            length = 0\n",
        "            while np.random.rand() < CR and length < no_of_variables:\n",
        "                trial_vector[(start_index + length) % no_of_variables] = mutant_vector[(start_index + length) % no_of_variables]\n",
        "                length += 1\n",
        "\n",
        "            # Selection\n",
        "            if function(trial_vector) < fitness_values[i]:\n",
        "                new_population.append(trial_vector)\n",
        "            else:\n",
        "                new_population.append(population[i])\n",
        "\n",
        "        population = np.array(new_population)\n",
        "\n",
        "    # Return best solution\n",
        "    final_fitness_values = np.array([function(ind) for ind in population])\n",
        "    best_idx = np.argmin(final_fitness_values)\n",
        "    return population[best_idx], final_fitness_values[best_idx], NFE\n"
      ],
      "metadata": {
        "id": "ynIGGoeaU13P"
      },
      "execution_count": null,
      "outputs": []
    },
    {
      "cell_type": "code",
      "source": [
        "best_solution, best_fitness, nfe_used = DE_rand_to_best_1_exp(\n",
        "    F=0.5,\n",
        "    CR=0.9,\n",
        "    population=population,\n",
        "    function=f2,\n",
        "    no_of_variables=no_of_variables\n",
        ")\n",
        "\n",
        "print(\"Best Solution:\", best_solution)\n",
        "print(\"Best Fitness:\", best_fitness)\n",
        "print(\"Number of Function Evaluations:\", nfe_used)"
      ],
      "metadata": {
        "id": "L7h7W2GAU5lI"
      },
      "execution_count": null,
      "outputs": []
    }
  ]
}