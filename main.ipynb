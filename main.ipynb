{
  "nbformat": 4,
  "nbformat_minor": 0,
  "metadata": {
    "colab": {
      "provenance": [],
      "authorship_tag": "ABX9TyMM7OXhFO+QzWT1i4NkSwXn",
      "include_colab_link": true
    },
    "kernelspec": {
      "name": "python3",
      "display_name": "Python 3"
    },
    "language_info": {
      "name": "python"
    }
  },
  "cells": [
    {
      "cell_type": "markdown",
      "metadata": {
        "id": "view-in-github",
        "colab_type": "text"
      },
      "source": [
        "<a href=\"https://colab.research.google.com/github/FCosmin27/ocs/blob/main/main.ipynb\" target=\"_parent\"><img src=\"https://colab.research.google.com/assets/colab-badge.svg\" alt=\"Open In Colab\"/></a>"
      ]
    },
    {
      "cell_type": "code",
      "execution_count": 1,
      "metadata": {
        "id": "tjSYtHF2S9_m"
      },
      "outputs": [],
      "source": [
        "import numpy as np\n",
        "import random"
      ]
    },
    {
      "cell_type": "code",
      "source": [
        "upper_bound = 100\n",
        "lower_bound = -100\n",
        "no_of_variables = 10"
      ],
      "metadata": {
        "id": "rnwQSE8vTXgr"
      },
      "execution_count": null,
      "outputs": []
    },
    {
      "cell_type": "code",
      "source": [
        "def check_x(x):\n",
        "    for i in range(len(x)):\n",
        "        if x[i] > upper_bound:\n",
        "            x[i] = upper_bound\n",
        "        elif x[i] < lower_bound:\n",
        "            x[i] = lower_bound\n",
        "    return x"
      ],
      "metadata": {
        "id": "J8hQyFcqTZaf"
      },
      "execution_count": null,
      "outputs": []
    },
    {
      "cell_type": "code",
      "source": [
        "x = np.random.normal(size=no_of_variables)\n",
        "\n",
        "x = check_x(x)\n",
        "print(x)"
      ],
      "metadata": {
        "id": "rQUMPzvaTatT"
      },
      "execution_count": null,
      "outputs": []
    },
    {
      "cell_type": "code",
      "source": [
        "def f1(x):\n",
        "    return np.sum(np.square(x))"
      ],
      "metadata": {
        "id": "FcdAXvYHTbyJ"
      },
      "execution_count": null,
      "outputs": []
    },
    {
      "cell_type": "code",
      "source": [
        "def f2(x):\n",
        "    result = 0\n",
        "    for i in range(no_of_variables):\n",
        "        tmp = 0\n",
        "        for j in range(i):\n",
        "            tmp += x[j]\n",
        "\n",
        "        result += tmp**2\n",
        "\n",
        "    return result"
      ],
      "metadata": {
        "id": "ECqRLdzjTcux"
      },
      "execution_count": null,
      "outputs": []
    },
    {
      "cell_type": "code",
      "source": [
        "def f3(x):\n",
        "    result = 0\n",
        "    for i in range(1, no_of_variables):\n",
        "        result += 1e6 ** ((i-1)/(no_of_variables-1)) * x[i]**2\n",
        "\n",
        "    return result"
      ],
      "metadata": {
        "id": "4zGXZFRbTdcy"
      },
      "execution_count": null,
      "outputs": []
    },
    {
      "cell_type": "code",
      "source": [
        "def f4(x):\n",
        "    result = 0\n",
        "    for i in range(no_of_variables):\n",
        "        tmp = 0\n",
        "        for j in range(i):\n",
        "            tmp += x[j]\n",
        "\n",
        "        result += tmp**2\n",
        "\n",
        "    return result * (1 + 0.4 * np.abs(np.random.randn()))"
      ],
      "metadata": {
        "id": "N7Vrpv1yTeIV"
      },
      "execution_count": null,
      "outputs": []
    },
    {
      "cell_type": "code",
      "source": [
        "def f5(x):\n",
        "    A = np.random.randint(-500, 501, size=(no_of_variables, no_of_variables))\n",
        "\n",
        "    while np.linalg.det(A) == 0:\n",
        "        A = np.random.randint(-500, 501, size=(no_of_variables, no_of_variables))\n",
        "\n",
        "    return np.max(np.abs(x*A - A))"
      ],
      "metadata": {
        "id": "FuWB7S4ETfKq"
      },
      "execution_count": null,
      "outputs": []
    },
    {
      "cell_type": "code",
      "source": [
        "print(\"f1(x):\", f1(x))\n",
        "print(\"f2(x):\", f2(x))\n",
        "print(\"f3(x):\", f3(x))\n",
        "print(\"f4(x):\", f4(x))\n",
        "print(\"f5(x):\", f5(x))"
      ],
      "metadata": {
        "id": "I0Uo8-kpTgF1"
      },
      "execution_count": null,
      "outputs": []
    },
    {
      "cell_type": "code",
      "source": [
        "def calculate_min_x(func, no_of_agents, x, es, alpha):\n",
        "    min_x = x\n",
        "    for _ in range(es):\n",
        "        xm = min_x + alpha * np.random.normal(size=no_of_variables)\n",
        "        xm = check_x(xm)\n",
        "        if func(xm) < func(min_x):\n",
        "            min_x = xm\n",
        "    return min_x"
      ],
      "metadata": {
        "id": "IFN4F8E2Tgxs"
      },
      "execution_count": null,
      "outputs": []
    },
    {
      "cell_type": "code",
      "source": [
        "def get_population(number_of_variables, population_size):\n",
        "    return np.random.normal(size=(population_size, number_of_variables))"
      ],
      "metadata": {
        "id": "eDBJB0FtThuX"
      },
      "execution_count": null,
      "outputs": []
    },
    {
      "cell_type": "code",
      "source": [
        "initial_alpha = 0.5\n",
        "no_of_variables = 10\n",
        "population_size = 5\n",
        "iterations = 100\n",
        "functions = [f1, f2, f3, f4, f5]\n",
        "population = get_population(no_of_variables, population_size)"
      ],
      "metadata": {
        "id": "4TX84k7UTins"
      },
      "execution_count": null,
      "outputs": []
    },
    {
      "cell_type": "code",
      "source": [
        "def population_v2_adaptive(population, function):\n",
        "    for iter_no in range(iterations):\n",
        "        alpha = initial_alpha / (iter_no + 1)\n",
        "        new_population = []\n",
        "\n",
        "        for agent in population:\n",
        "            new_agents = [agent + alpha * np.random.normal(size=no_of_variables) for _ in range(5)]\n",
        "            best_agent = min(new_agents, key=lambda x: function(x))\n",
        "            new_population.append(best_agent)\n",
        "\n",
        "        if sum([function(agent) for agent in new_population]) < sum([function(agent) for agent in population]):\n",
        "            population = new_population\n",
        "\n",
        "    return population"
      ],
      "metadata": {
        "id": "7vEG8FriTjaQ"
      },
      "execution_count": null,
      "outputs": []
    },
    {
      "cell_type": "code",
      "source": [
        "print(\"f1(x):\", population_v2_adaptive(population, f1))\n",
        "print(\"f2(x):\", population_v2_adaptive(population, f2))\n",
        "print(\"f3(x):\", population_v2_adaptive(population, f3))\n",
        "print(\"f4(x):\", population_v2_adaptive(population, f4))\n",
        "print(\"f5(x):\", population_v2_adaptive(population, f5))"
      ],
      "metadata": {
        "id": "rS7ayMoGTkKe"
      },
      "execution_count": null,
      "outputs": []
    },
    {
      "cell_type": "code",
      "source": [
        "for idx, population in enumerate(population_v2_adaptive()):\n",
        "    print(\"Function\", idx+1)\n",
        "    for agent in population:\n",
        "        print(agent, f1(agent))\n"
      ],
      "metadata": {
        "id": "yHFnDa42TlY_"
      },
      "execution_count": null,
      "outputs": []
    },
    {
      "cell_type": "code",
      "source": [
        "no_of_bits = 20"
      ],
      "metadata": {
        "id": "04HDeW50Tl7X"
      },
      "execution_count": null,
      "outputs": []
    }
  ]
}