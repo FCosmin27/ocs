{
  "nbformat": 4,
  "nbformat_minor": 0,
  "metadata": {
    "colab": {
      "provenance": [],
      "include_colab_link": true
    },
    "kernelspec": {
      "name": "python3",
      "display_name": "Python 3"
    },
    "language_info": {
      "name": "python"
    }
  },
  "cells": [
    {
      "cell_type": "markdown",
      "metadata": {
        "id": "view-in-github",
        "colab_type": "text"
      },
      "source": [
        "<a href=\"https://colab.research.google.com/github/FCosmin27/ocs/blob/main/main.ipynb\" target=\"_parent\"><img src=\"https://colab.research.google.com/assets/colab-badge.svg\" alt=\"Open In Colab\"/></a>"
      ]
    },
    {
      "cell_type": "code",
      "execution_count": 11,
      "metadata": {
        "id": "tjSYtHF2S9_m"
      },
      "outputs": [],
      "source": [
        "import numpy as np\n",
        "import random"
      ]
    },
    {
      "cell_type": "code",
      "source": [
        "upper_bound = 100\n",
        "lower_bound = -100\n",
        "dimension = 10"
      ],
      "metadata": {
        "id": "rnwQSE8vTXgr"
      },
      "execution_count": 12,
      "outputs": []
    },
    {
      "cell_type": "code",
      "source": [
        "def check_x(x):\n",
        "    for i in range(len(x)):\n",
        "        if x[i] > upper_bound:\n",
        "            x[i] = upper_bound\n",
        "        elif x[i] < lower_bound:\n",
        "            x[i] = lower_bound\n",
        "    return x"
      ],
      "metadata": {
        "id": "J8hQyFcqTZaf"
      },
      "execution_count": 13,
      "outputs": []
    },
    {
      "cell_type": "code",
      "source": [
        "x = np.random.normal(size=dimension)\n",
        "\n",
        "x = check_x(x)\n",
        "print(x)"
      ],
      "metadata": {
        "colab": {
          "base_uri": "https://localhost:8080/"
        },
        "id": "rQUMPzvaTatT",
        "outputId": "1c2371de-006e-46cd-ee9a-dcffcc5ee666"
      },
      "execution_count": 14,
      "outputs": [
        {
          "output_type": "stream",
          "name": "stdout",
          "text": [
            "[ 0.15632162  0.55495605 -2.34349392  0.79148215 -0.29618048  0.96514359\n",
            " -0.58420348  0.60262036  1.14198474  0.97772021]\n"
          ]
        }
      ]
    },
    {
      "cell_type": "code",
      "source": [
        "def f1(x):\n",
        "    return np.sum(np.square(x))"
      ],
      "metadata": {
        "id": "FcdAXvYHTbyJ"
      },
      "execution_count": 15,
      "outputs": []
    },
    {
      "cell_type": "code",
      "source": [
        "def f2(x):\n",
        "    result = 0\n",
        "    for i in range(len(x)):\n",
        "        tmp = 0\n",
        "        for j in range(i):\n",
        "            tmp += x[j]\n",
        "\n",
        "        result += tmp**2\n",
        "\n",
        "    return result"
      ],
      "metadata": {
        "id": "ECqRLdzjTcux"
      },
      "execution_count": 16,
      "outputs": []
    },
    {
      "cell_type": "code",
      "source": [
        "def f3(x):\n",
        "    result = 0\n",
        "    for i in range(1, len(x)):\n",
        "        result += 1e6 ** ((i-1)/(len(x)-1)) * x[i]**2\n",
        "\n",
        "    return result"
      ],
      "metadata": {
        "id": "4zGXZFRbTdcy"
      },
      "execution_count": 17,
      "outputs": []
    },
    {
      "cell_type": "code",
      "source": [
        "def f4(x):\n",
        "    result = 0\n",
        "    for i in range(len(x)):\n",
        "        tmp = 0\n",
        "        for j in range(i):\n",
        "            tmp += x[j]\n",
        "\n",
        "        result += tmp**2\n",
        "\n",
        "    return result * (1 + 0.4 * np.abs(np.random.randn()))"
      ],
      "metadata": {
        "id": "N7Vrpv1yTeIV"
      },
      "execution_count": 18,
      "outputs": []
    },
    {
      "cell_type": "code",
      "source": [
        "def f5(x):\n",
        "    A = np.random.randint(-500, 501, size=(len(x), len(x)))\n",
        "\n",
        "    while np.linalg.det(A) == 0:\n",
        "        A = np.random.randint(-500, 501, size=(len(x), len(x)))\n",
        "\n",
        "    return np.max(np.abs(x*A - A))"
      ],
      "metadata": {
        "id": "FuWB7S4ETfKq"
      },
      "execution_count": 19,
      "outputs": []
    },
    {
      "cell_type": "code",
      "source": [
        "print(\"f1(x):\", f1(x))\n",
        "print(\"f2(x):\", f2(x))\n",
        "print(\"f3(x):\", f3(x))\n",
        "print(\"f4(x):\", f4(x))\n",
        "print(\"f5(x):\", f5(x))"
      ],
      "metadata": {
        "id": "I0Uo8-kpTgF1"
      },
      "execution_count": null,
      "outputs": []
    },
    {
      "cell_type": "code",
      "source": [
        "def calculate_min_x(func, no_of_agents, x, es, alpha):\n",
        "    min_x = x\n",
        "    for _ in range(es):\n",
        "        xm = min_x + alpha * np.random.normal(size=len(x))\n",
        "        xm = check_x(xm)\n",
        "        if func(xm) < func(min_x):\n",
        "            min_x = xm\n",
        "    return min_x"
      ],
      "metadata": {
        "id": "IFN4F8E2Tgxs"
      },
      "execution_count": 20,
      "outputs": []
    },
    {
      "cell_type": "code",
      "source": [
        "def get_population(number_of_variables, population_size):\n",
        "    return np.random.normal(size=(population_size, number_of_variables))"
      ],
      "metadata": {
        "id": "eDBJB0FtThuX"
      },
      "execution_count": 21,
      "outputs": []
    },
    {
      "cell_type": "code",
      "source": [
        "initial_alpha = 0.5\n",
        "dimension = 10\n",
        "population_size = 5\n",
        "iterations = 100\n",
        "functions = [f1, f2, f3, f4, f5]\n",
        "population = get_population(dimension, population_size)"
      ],
      "metadata": {
        "id": "4TX84k7UTins"
      },
      "execution_count": 22,
      "outputs": []
    },
    {
      "cell_type": "markdown",
      "source": [
        "# Lab2"
      ],
      "metadata": {
        "id": "3RaDW_o7Vv1c"
      }
    },
    {
      "cell_type": "code",
      "source": [
        "def population_v2_adaptive(population, function, dimension, max_NFE = 1000, initial_alpha = 0.5,):\n",
        "    NFE = 0\n",
        "    iter_no = 0\n",
        "\n",
        "    while NFE < max_NFE:\n",
        "        iter_no += 1\n",
        "        alpha = initial_alpha / (iter_no + 1)\n",
        "        new_population = []\n",
        "\n",
        "        for agent in population:\n",
        "            new_agents = [agent + alpha * np.random.normal(size=dimension) for _ in range(5)]\n",
        "            best_agent = min(new_agents, key=function)\n",
        "            new_population.append(best_agent)\n",
        "\n",
        "            NFE += dimension\n",
        "\n",
        "            if NFE >= max_NFE:\n",
        "                break\n",
        "\n",
        "        if sum([function(agent) for agent in new_population]) < sum([function(agent) for agent in population]):\n",
        "            population = new_population\n",
        "\n",
        "        if NFE >= max_NFE:\n",
        "            break\n",
        "\n",
        "    return population"
      ],
      "metadata": {
        "id": "7vEG8FriTjaQ"
      },
      "execution_count": 33,
      "outputs": []
    },
    {
      "cell_type": "code",
      "source": [
        "print(\"f1(x):\", population_v2_adaptive(population, f1, dimension))\n",
        "print(\"f2(x):\", population_v2_adaptive(population, f2, dimension))\n",
        "print(\"f3(x):\", population_v2_adaptive(population, f3, dimension))\n",
        "print(\"f4(x):\", population_v2_adaptive(population, f4, dimension))\n",
        "print(\"f5(x):\", population_v2_adaptive(population, f5, dimension))"
      ],
      "metadata": {
        "id": "rS7ayMoGTkKe",
        "colab": {
          "base_uri": "https://localhost:8080/"
        },
        "outputId": "b8ac5379-ad4b-4267-8d0e-213158319305"
      },
      "execution_count": 34,
      "outputs": [
        {
          "output_type": "stream",
          "name": "stdout",
          "text": [
            "f1(x): [array([ 0.11750775, -0.44404495, -0.21848158, -0.40152405,  0.08502493,\n",
            "        0.33030404, -0.48885297,  0.65113239,  0.71675038,  0.27460054]), array([ 0.99048162,  1.26568848, -0.38449369,  1.31969432, -0.35320512,\n",
            "       -0.74774516, -0.22734794,  0.04157135, -0.19442679,  0.11893802]), array([-0.6596545 , -0.84798283,  0.15309119,  0.39784247, -0.37094897,\n",
            "       -0.10082373,  0.25277788,  0.25331901, -0.19290092,  0.26579353]), array([-0.41696145,  0.28593243,  0.14565162, -1.01382789,  0.42244268,\n",
            "       -0.82137078,  0.99864761, -1.41629399,  0.80002133,  0.35329819]), array([ 0.11978443, -0.08211577, -0.60943137,  0.05156146, -0.27982093,\n",
            "        0.30985103,  0.0998803 ,  0.19906729, -0.06598721, -0.20646767])]\n",
            "f2(x): [array([ 0.47110749, -0.30221489, -0.61419004, -0.56351924,  0.96760253,\n",
            "       -0.05208055, -0.17976421,  0.58493683,  0.39819158,  0.2955008 ]), array([ 0.9460665 ,  0.67972964, -1.14876697,  2.20706417, -1.05554057,\n",
            "       -0.8413568 , -1.40159008, -0.89825195,  0.77017726,  0.38899176]), array([-0.75067243, -0.99541283,  0.54082792,  1.62518795, -0.56906088,\n",
            "       -0.25753557, -0.24162895,  0.41971049, -0.54354641, -0.07708495]), array([-0.65786226,  0.41656758,  0.59140214, -0.63207714,  0.73904041,\n",
            "       -0.08789645,  0.2544837 , -1.99008107,  1.32062332,  0.76607796]), array([ 0.36050853,  0.19474241, -0.96153472,  0.23548303, -0.39402406,\n",
            "        0.45947009, -0.20147219,  0.40104303,  0.40255552, -0.66950465])]\n",
            "f3(x): [array([ 0.51017637, -0.62083153, -0.75411208, -0.40731545,  0.81802629,\n",
            "        0.83685009, -0.02754702,  0.50547438,  0.0436052 , -0.01943045]), array([ 0.61338479,  1.7237566 , -0.02177131,  2.05222554, -0.68329518,\n",
            "       -0.87054615, -0.51941269, -0.55467703,  0.00955041, -0.00591883]), array([-1.06760968, -2.12576061,  0.60698777,  0.70246999, -1.34725138,\n",
            "       -0.16703243,  0.03126777, -0.01823435,  0.01708763, -0.01618335]), array([-0.54660124, -0.37829364,  0.06320408, -1.18428799, -0.24859039,\n",
            "       -0.90281035,  0.79979399, -1.78387591,  0.10828953,  0.06538261]), array([-0.49290756, -0.23709553,  0.00765029, -0.45598439, -1.23723686,\n",
            "        0.04750134, -0.2047771 ,  0.06648145, -0.00445805, -0.00636306])]\n",
            "f4(x): [array([ 0.08016725,  0.18611698, -0.51076626, -0.62819247,  0.47711642,\n",
            "        0.43826345, -0.42666387,  0.6681411 ,  0.18433077, -0.24418071]), array([ 0.27991114,  0.94560953, -0.92540549,  2.11917368, -1.13754463,\n",
            "       -0.7632886 , -1.01371055, -0.59581838,  0.64350627,  1.06138697]), array([-0.82789882, -1.29237452,  0.58206538,  1.11057496, -0.51954018,\n",
            "       -0.25131262,  0.08850892, -0.25993654, -0.55431937,  0.26588382]), array([-0.49352394,  0.18985572,  0.22928812, -1.02115256,  1.28941536,\n",
            "       -0.38461765,  0.79112259, -1.82815425,  0.86200661,  1.67744398]), array([ 0.18239555,  0.04750554, -0.22643543,  0.48038186, -1.45702105,\n",
            "        0.64903952,  0.21159313,  0.18772883,  0.63521081, -0.81210803])]\n",
            "f5(x): [array([ 0.05837156, -0.48156357, -0.51438956, -0.30238085,  0.62153904,\n",
            "        0.27990047, -0.02007106,  0.58017613,  0.97746682, -0.13356106]), array([ 1.36417585,  1.24894056, -1.00393505,  2.48407461, -1.3192837 ,\n",
            "       -1.35432207, -1.37486818, -0.77999333,  0.97486243,  0.64175816]), array([-1.43132429, -0.90139254,  0.43432599,  0.15220745, -0.58563585,\n",
            "        0.08689007, -0.63374173, -0.08673201, -0.56236916,  0.63935137]), array([-0.87963679, -0.6141204 , -0.61014433, -1.18125619,  0.29810698,\n",
            "       -0.95724414,  0.73425726, -1.61038435, -0.12431882,  0.8220344 ]), array([ 0.1076597 , -0.04171614, -0.82490229,  0.00875281, -0.82692728,\n",
            "        0.53364405, -0.20912473,  0.27638452, -0.5771059 , -0.67780655])]\n"
          ]
        }
      ]
    },
    {
      "cell_type": "markdown",
      "source": [
        "# Lab3"
      ],
      "metadata": {
        "id": "tijrT1NcVxl0"
      }
    },
    {
      "cell_type": "code",
      "source": [
        "def pc_function(iter_no):\n",
        "    return max(0.5, 1 / (1 + iter_no))"
      ],
      "metadata": {
        "id": "-4N3CvfRXPZ7"
      },
      "execution_count": 36,
      "outputs": []
    },
    {
      "cell_type": "code",
      "source": [
        "def pm_function(iter_no):\n",
        "    return max(0.01, 0.1 / (1 + iter_no))"
      ],
      "metadata": {
        "id": "b_Rgobw2XNnm"
      },
      "execution_count": 37,
      "outputs": []
    },
    {
      "cell_type": "code",
      "source": [
        "def sphere_function(x):\n",
        "    return np.sum(np.square(x))"
      ],
      "metadata": {
        "id": "hUjvlS7KXIey"
      },
      "execution_count": 38,
      "outputs": []
    },
    {
      "cell_type": "code",
      "source": [
        "def CGA_adaptiveV1_greedy(pc_function, pm_function, population, function, dimension, max_NFE = 1000):\n",
        "    NFE = 0\n",
        "    iter_no = 0\n",
        "\n",
        "    while NFE < max_NFE:\n",
        "        iter_no += 1\n",
        "        pc = pc_function(iter_no)\n",
        "        pm = pm_function(iter_no)\n",
        "\n",
        "        new_population = []\n",
        "        for i in range(len(population)):\n",
        "            parent1 = population[i]\n",
        "            parent2 = population[np.random.randint(len(population))]\n",
        "\n",
        "            if np.random.rand() < pc:\n",
        "                crossover_point = np.random.randint(1, dimension - 1)\n",
        "                child = np.concatenate((parent1[:crossover_point], parent2[crossover_point:]))\n",
        "            else:\n",
        "                child = parent1.copy()\n",
        "\n",
        "            if np.random.rand() < pm:\n",
        "                mutation_idx = np.random.randint(dimension)\n",
        "                child[mutation_idx] += np.random.normal()\n",
        "\n",
        "            new_population.append(child)\n",
        "\n",
        "        new_population.sort(key=function)\n",
        "        best_parent = min(population, key=function)\n",
        "        new_population[-1] = best_parent\n",
        "\n",
        "        population = new_population\n",
        "\n",
        "        NFE += len(new_population)\n",
        "\n",
        "    return population"
      ],
      "metadata": {
        "id": "S-roH1JNUK6l"
      },
      "execution_count": 39,
      "outputs": []
    },
    {
      "cell_type": "code",
      "source": [
        "final_population = CGA_adaptiveV1_greedy(pc_function, pm_function, population, sphere_function, dimension)\n",
        "print(\"Best solution (CGA):\", min(final_population, key=sphere_function))\n"
      ],
      "metadata": {
        "colab": {
          "base_uri": "https://localhost:8080/"
        },
        "id": "igPynvsoXDR1",
        "outputId": "6e18355f-b358-4649-83eb-89c90b7a8efd"
      },
      "execution_count": 40,
      "outputs": [
        {
          "output_type": "stream",
          "name": "stdout",
          "text": [
            "Best solution (CGA): [-0.09196176 -0.14153996 -1.11921004 -0.3453729  -0.91234073  0.23848204\n",
            " -0.00652838  0.19366724  0.09208809 -0.80516765]\n"
          ]
        }
      ]
    },
    {
      "cell_type": "markdown",
      "source": [
        "# Lab4"
      ],
      "metadata": {
        "id": "NfbgfECHVzHk"
      }
    },
    {
      "cell_type": "code",
      "source": [
        "def pc_function_fitness(fitness):\n",
        "    return 0.5 + 0.4 * fitness"
      ],
      "metadata": {
        "id": "FRIlQo36YdHF"
      },
      "execution_count": 41,
      "outputs": []
    },
    {
      "cell_type": "code",
      "source": [
        "def pm_function_fitness(fitness):\n",
        "    return 0.1 - 0.08 * fitness"
      ],
      "metadata": {
        "id": "zvH2V_jkYfFQ"
      },
      "execution_count": 42,
      "outputs": []
    },
    {
      "cell_type": "code",
      "source": [
        "def RGA_4(population, function, dimension,  pc=0.9, pm=0.1, max_NFE=1000):\n",
        "    NFE = 0\n",
        "    while NFE < max_NFE:\n",
        "        new_population = []\n",
        "        for _ in range(len(population) // 2):\n",
        "            parent1, parent2 = population[np.random.choice(len(population), 2, replace=False)]\n",
        "\n",
        "            if np.random.rand() < pc:\n",
        "                alpha = 0.1\n",
        "                child1 = np.random.uniform(np.minimum(parent1, parent2) - alpha * np.abs(parent1 - parent2),\n",
        "                                           np.maximum(parent1, parent2) + alpha * np.abs(parent1 - parent2))\n",
        "                child2 = np.random.uniform(np.minimum(parent1, parent2) - alpha * np.abs(parent1 - parent2),\n",
        "                                           np.maximum(parent1, parent2) + alpha * np.abs(parent1 - parent2))\n",
        "            else:\n",
        "                child1, child2 = parent1.copy(), parent2.copy()\n",
        "\n",
        "            if np.random.rand() < pm:\n",
        "                mutation_idx = np.random.randint(dimension)\n",
        "                child1[mutation_idx] += np.random.normal()\n",
        "            if np.random.rand() < pm:\n",
        "                mutation_idx = np.random.randint(dimension)\n",
        "                child2[mutation_idx] += np.random.normal()\n",
        "\n",
        "            child1 = np.clip(child1, -10, 10)\n",
        "            child2 = np.clip(child2, -10, 10)\n",
        "\n",
        "            new_population.extend([child1, child2])\n",
        "\n",
        "        combined_population = np.vstack((population, new_population))\n",
        "        combined_population = sorted(combined_population, key=function)\n",
        "        population = np.array(combined_population[:len(population)])\n",
        "\n",
        "        NFE += len(new_population)\n",
        "\n",
        "    return population"
      ],
      "metadata": {
        "id": "nVauaoS9a5K9"
      },
      "execution_count": 44,
      "outputs": []
    },
    {
      "cell_type": "code",
      "source": [
        "final_population_v2 = RGA_4(population, f1, dimension)\n",
        "print(\"Best solution (RGA_4):\", min(final_population_v2, key=f1))"
      ],
      "metadata": {
        "id": "8IXrNgCVbId2",
        "outputId": "da5932e5-1899-433c-b504-ed877e459b09",
        "colab": {
          "base_uri": "https://localhost:8080/"
        }
      },
      "execution_count": 46,
      "outputs": [
        {
          "output_type": "stream",
          "name": "stdout",
          "text": [
            "Best solution (RGA_4): [-1.66315272e-02 -1.63946835e-02 -9.98628288e-05 -1.90856114e-03\n",
            "  9.81301148e-02  1.03507264e-02  3.31637957e-03  1.92526616e-02\n",
            "  2.01861456e-01 -7.45495757e-03]\n"
          ]
        }
      ]
    },
    {
      "cell_type": "markdown",
      "source": [
        "# Lab5"
      ],
      "metadata": {
        "id": "Y8n_zd3eV0kD"
      }
    },
    {
      "cell_type": "code",
      "source": [
        "def DE_best_1_exp(population, function, F=0.8, CR=0.9, max_NFE=1000):\n",
        "    NFE = 0\n",
        "    population_size, dimension = population.shape\n",
        "\n",
        "    while NFE < max_NFE:\n",
        "        new_population = []\n",
        "\n",
        "        for i in range(population_size):\n",
        "            best = min(population, key=function)\n",
        "            r1, r2 = population[np.random.choice(population_size, 2, replace=False)]\n",
        "            mutant = best + F * (r1 - r2)\n",
        "\n",
        "            trial = np.copy(population[i])\n",
        "            start_idx = np.random.randint(dimension)\n",
        "            for j in range(dimension):\n",
        "                if np.random.rand() < CR or j == start_idx:\n",
        "                    trial[j] = mutant[j]\n",
        "\n",
        "            trial = np.clip(trial, -10, 10)\n",
        "\n",
        "            if function(trial) < function(population[i]):\n",
        "                new_population.append(trial)\n",
        "            else:\n",
        "                new_population.append(population[i])\n",
        "\n",
        "        population = np.array(new_population)\n",
        "        NFE += population_size\n",
        "\n",
        "    return population\n"
      ],
      "metadata": {
        "id": "mQKxt7-Xb4OD"
      },
      "execution_count": 47,
      "outputs": []
    },
    {
      "cell_type": "code",
      "source": [
        "final_population_v2 = DE_best_1_exp(population, f1)\n",
        "print(\"Best solution (DE_best_1_exp):\", min(final_population_v2, key=f1))"
      ],
      "metadata": {
        "id": "pfsE1VsOcp7I",
        "outputId": "2ad591cf-42fc-40f9-e772-0e1b7bf17dee",
        "colab": {
          "base_uri": "https://localhost:8080/"
        }
      },
      "execution_count": 48,
      "outputs": [
        {
          "output_type": "stream",
          "name": "stdout",
          "text": [
            "Best solution (DE_best_1_exp): [ 0.21656114  0.04685252 -0.05791005  0.20020763 -0.30636745  0.14114458\n",
            "  0.00542943 -0.00140006  0.0166715  -0.03510926]\n"
          ]
        }
      ]
    },
    {
      "cell_type": "markdown",
      "source": [
        "## Butnaru Teodor"
      ],
      "metadata": {
        "id": "DPOVhqo6Uhp_"
      }
    },
    {
      "cell_type": "markdown",
      "source": [
        "# Lab2"
      ],
      "metadata": {
        "id": "MxwRpimNVcJd"
      }
    },
    {
      "cell_type": "code",
      "source": [
        "def Population_V1_selfAdaptive(nr_iter, nr_agents, start_pt):\n",
        "\n",
        "    population = [start_pt[:] for _ in range(nr_agents)]\n",
        "    alfa = [[30, -30] for _ in range(nr_agents)]\n",
        "    min_value = 0\n",
        "\n",
        "\n",
        "    for iter in range(nr_iter):\n",
        "        for i in range(nr_agents):\n",
        "            xm = [\n",
        "                population[i][0] + alfa[i][0] * random.uniform(-1, 1),\n",
        "                population[i][1] + alfa[i][1] * random.uniform(-1, 1)\n",
        "            ]\n",
        "\n",
        "            if evaluate_oracle(population[i]) > evaluate_oracle(xm):\n",
        "                population[i] = xm\n",
        "\n",
        "            alfa[i][0] += alfa[i][0] * random.uniform(-1, 1)\n",
        "            alfa[i][1] += alfa[i][1] * random.uniform(-1, 1)\n",
        "\n",
        "    min_pt = population[0]\n",
        "    for pt in population:\n",
        "      if evaluate_oracle(pt)<evaluate_oracle(min_pt):\n",
        "        min_pt = pt\n",
        "    return min_pt\n",
        "\n",
        "nr_iter = 10000\n",
        "nr_agents = 40\n",
        "start_pt = [30, -50]\n",
        "\n",
        "best_solution = Population_V1_selfAdaptive(nr_iter, nr_agents, start_pt)\n",
        "print(f\"Best solution found: {best_solution}\")\n"
      ],
      "metadata": {
        "id": "phsFlPxxVd9n"
      },
      "execution_count": null,
      "outputs": []
    },
    {
      "cell_type": "markdown",
      "source": [
        "# Lab3"
      ],
      "metadata": {
        "id": "OI4YEyrMUuOl"
      }
    },
    {
      "cell_type": "code",
      "source": [
        "def CGA_adaptiveV2_greedy(pc_function, pm_function, population, function, dimension):\n",
        "    NFE = 0\n",
        "    max_NFE = 1000\n",
        "\n",
        "    while NFE < max_NFE:\n",
        "        fitness_values = np.array([function(individual) for individual in population])\n",
        "        max_fitness = np.max(fitness_values)\n",
        "        min_fitness = np.min(fitness_values)\n",
        "\n",
        "        normalized_fitness = (max_fitness - fitness_values) / (max_fitness - min_fitness + 1e-10)\n",
        "\n",
        "        pc = pc_function(normalized_fitness)\n",
        "        pm = pm_function(normalized_fitness)\n",
        "\n",
        "        new_population = []\n",
        "        for i in range(len(population)):\n",
        "            parent1 = population[i]\n",
        "            parent2 = population[np.random.randint(len(population))]\n",
        "\n",
        "            if np.random.rand() < pc[i]:\n",
        "                crossover_point = np.random.randint(1, dimension - 1)\n",
        "                child = np.concatenate((parent1[:crossover_point], parent2[crossover_point:]))\n",
        "            else:\n",
        "                child = parent1.copy()\n",
        "\n",
        "            if np.random.rand() < pm[i]:\n",
        "                mutation_idx = np.random.randint(dimension)\n",
        "                child[mutation_idx] += np.random.normal()\n",
        "\n",
        "            new_population.append(child)\n",
        "\n",
        "        new_population.sort(key=function)\n",
        "        best_parent = min(population, key=function)\n",
        "        new_population[-1] = best_parent\n",
        "\n",
        "        population = new_population\n",
        "\n",
        "        NFE += len(new_population)\n",
        "\n",
        "    return population"
      ],
      "metadata": {
        "id": "HuoqZAfRUhRn"
      },
      "execution_count": null,
      "outputs": []
    },
    {
      "cell_type": "markdown",
      "source": [
        "# Lab4"
      ],
      "metadata": {
        "id": "yAzFFgPnUv2u"
      }
    },
    {
      "cell_type": "code",
      "source": [
        "def RGA_3(pc, pm, population, function, no_of_variables):\n",
        "    NFE = 0\n",
        "    max_NFE = 1000\n",
        "\n",
        "    while NFE < max_NFE:\n",
        "        # Fitness Evaluation\n",
        "        fitness_values = np.array([function(individual) for individual in population])\n",
        "        NFE += len(population)\n",
        "\n",
        "        new_population = []\n",
        "\n",
        "        # Generate Offspring\n",
        "        for _ in range(len(population) // 2):\n",
        "            # Parent Selection\n",
        "            parent1 = population[np.random.randint(len(population))]\n",
        "            parent2 = population[np.random.randint(len(population))]\n",
        "\n",
        "            # Crossover (BLX-0.5)\n",
        "            if np.random.rand() < pc:\n",
        "                d = np.abs(parent1 - parent2)\n",
        "                lower = np.minimum(parent1, parent2) - 0.5 * d\n",
        "                upper = np.maximum(parent1, parent2) + 0.5 * d\n",
        "                child1 = np.random.uniform(lower, upper)\n",
        "                child2 = np.random.uniform(lower, upper)\n",
        "            else:\n",
        "                child1, child2 = parent1.copy(), parent2.copy()\n",
        "\n",
        "            # Mutation\n",
        "            if np.random.rand() < pm:\n",
        "                mutation_idx = np.random.randint(no_of_variables)\n",
        "                child1[mutation_idx] += np.random.normal()\n",
        "\n",
        "            if np.random.rand() < pm:\n",
        "                mutation_idx = np.random.randint(no_of_variables)\n",
        "                child2[mutation_idx] += np.random.normal()\n",
        "\n",
        "            # Add to new population\n",
        "            new_population.extend([child1, child2])\n",
        "\n",
        "        # Replacement\n",
        "        new_population.sort(key=function)\n",
        "        population = new_population[:len(population)]\n",
        "\n",
        "    # Return best solution\n",
        "    best_solution = min(population, key=function)\n",
        "    return best_solution, function(best_solution), NFE\n"
      ],
      "metadata": {
        "id": "hK6vNsPkUypB"
      },
      "execution_count": null,
      "outputs": []
    },
    {
      "cell_type": "code",
      "source": [
        "# Run RGA_3\n",
        "best_solution, best_fitness, nfe_used = RGA_3(\n",
        "    pc=0.8,\n",
        "    pm=0.1,\n",
        "    population=population,\n",
        "    function=f1,\n",
        "    no_of_variables=no_of_variables\n",
        ")\n",
        "\n",
        "print(\"Best Solution:\", best_solution)\n",
        "print(\"Best Fitness:\", best_fitness)\n",
        "print(\"Number of Function Evaluations:\", nfe_used)"
      ],
      "metadata": {
        "id": "gxM9niWbU3w4"
      },
      "execution_count": null,
      "outputs": []
    },
    {
      "cell_type": "markdown",
      "source": [
        "# Lab5"
      ],
      "metadata": {
        "id": "gIjw9sTWU0A_"
      }
    },
    {
      "cell_type": "code",
      "source": [
        "def DE_rand_to_best_1_exp(F, CR, population, function, no_of_variables):\n",
        "    NFE = 0\n",
        "    max_NFE = 1000\n",
        "    population_size = len(population)\n",
        "\n",
        "    while NFE < max_NFE:\n",
        "        fitness_values = np.array([function(ind) for ind in population])\n",
        "        best_idx = np.argmin(fitness_values)\n",
        "        best_individual = population[best_idx]\n",
        "        NFE += len(population)\n",
        "\n",
        "        new_population = []\n",
        "\n",
        "        for i in range(population_size):\n",
        "            # Mutation: rand-to-best/1\n",
        "            x_rand = population[np.random.randint(population_size)]\n",
        "            x1, x2 = population[np.random.choice([j for j in range(population_size) if j != i], size=2, replace=False)]\n",
        "            mutant_vector = x_rand + F * (best_individual - x_rand) + F * (x1 - x2)\n",
        "\n",
        "            # Crossover: Exponential\n",
        "            trial_vector = population[i].copy()\n",
        "            start_index = np.random.randint(no_of_variables)\n",
        "            length = 0\n",
        "            while np.random.rand() < CR and length < no_of_variables:\n",
        "                trial_vector[(start_index + length) % no_of_variables] = mutant_vector[(start_index + length) % no_of_variables]\n",
        "                length += 1\n",
        "\n",
        "            # Selection\n",
        "            if function(trial_vector) < fitness_values[i]:\n",
        "                new_population.append(trial_vector)\n",
        "            else:\n",
        "                new_population.append(population[i])\n",
        "\n",
        "        population = np.array(new_population)\n",
        "\n",
        "    # Return best solution\n",
        "    final_fitness_values = np.array([function(ind) for ind in population])\n",
        "    best_idx = np.argmin(final_fitness_values)\n",
        "    return population[best_idx], final_fitness_values[best_idx], NFE\n"
      ],
      "metadata": {
        "id": "ynIGGoeaU13P"
      },
      "execution_count": null,
      "outputs": []
    },
    {
      "cell_type": "code",
      "source": [
        "best_solution, best_fitness, nfe_used = DE_rand_to_best_1_exp(\n",
        "    F=0.5,\n",
        "    CR=0.9,\n",
        "    population=population,\n",
        "    function=f2,\n",
        "    no_of_variables=no_of_variables\n",
        ")\n",
        "\n",
        "print(\"Best Solution:\", best_solution)\n",
        "print(\"Best Fitness:\", best_fitness)\n",
        "print(\"Number of Function Evaluations:\", nfe_used)"
      ],
      "metadata": {
        "id": "L7h7W2GAU5lI"
      },
      "execution_count": null,
      "outputs": []
    },
    {
      "cell_type": "markdown",
      "source": [
        "**Laboratory 6. Testing meta-heuristics**"
      ],
      "metadata": {
        "id": "VmUW0eC3WXkj"
      }
    },
    {
      "cell_type": "code",
      "source": [
        "D = [5, 10]\n",
        "NEF = 1000\n",
        "\n",
        "functions ="
      ],
      "metadata": {
        "id": "iw9xGhYjWWw-"
      },
      "execution_count": null,
      "outputs": []
    }
  ]
}