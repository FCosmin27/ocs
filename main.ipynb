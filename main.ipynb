{
  "nbformat": 4,
  "nbformat_minor": 0,
  "metadata": {
    "colab": {
      "provenance": [],
      "include_colab_link": true
    },
    "kernelspec": {
      "name": "python3",
      "display_name": "Python 3"
    },
    "language_info": {
      "name": "python"
    }
  },
  "cells": [
    {
      "cell_type": "markdown",
      "metadata": {
        "id": "view-in-github",
        "colab_type": "text"
      },
      "source": [
        "<a href=\"https://colab.research.google.com/github/FCosmin27/ocs/blob/main/main.ipynb\" target=\"_parent\"><img src=\"https://colab.research.google.com/assets/colab-badge.svg\" alt=\"Open In Colab\"/></a>"
      ]
    },
    {
      "cell_type": "code",
      "execution_count": 11,
      "metadata": {
        "id": "tjSYtHF2S9_m"
      },
      "outputs": [],
      "source": [
        "import numpy as np\n",
        "import random"
      ]
    },
    {
      "cell_type": "code",
      "source": [
        "upper_bound = 100\n",
        "lower_bound = -100\n",
        "dimension = 10"
      ],
      "metadata": {
        "id": "rnwQSE8vTXgr"
      },
      "execution_count": 12,
      "outputs": []
    },
    {
      "cell_type": "code",
      "source": [
        "def check_x(x):\n",
        "    for i in range(len(x)):\n",
        "        if x[i] > upper_bound:\n",
        "            x[i] = upper_bound\n",
        "        elif x[i] < lower_bound:\n",
        "            x[i] = lower_bound\n",
        "    return x"
      ],
      "metadata": {
        "id": "J8hQyFcqTZaf"
      },
      "execution_count": 13,
      "outputs": []
    },
    {
      "cell_type": "code",
      "source": [
        "x = np.random.normal(size=dimension)\n",
        "\n",
        "x = check_x(x)\n",
        "print(x)"
      ],
      "metadata": {
        "colab": {
          "base_uri": "https://localhost:8080/"
        },
        "id": "rQUMPzvaTatT",
        "outputId": "1c2371de-006e-46cd-ee9a-dcffcc5ee666"
      },
      "execution_count": 14,
      "outputs": [
        {
          "output_type": "stream",
          "name": "stdout",
          "text": [
            "[ 0.15632162  0.55495605 -2.34349392  0.79148215 -0.29618048  0.96514359\n",
            " -0.58420348  0.60262036  1.14198474  0.97772021]\n"
          ]
        }
      ]
    },
    {
      "cell_type": "code",
      "source": [
        "def f1(x):\n",
        "    return np.sum(np.square(x))"
      ],
      "metadata": {
        "id": "FcdAXvYHTbyJ"
      },
      "execution_count": 15,
      "outputs": []
    },
    {
      "cell_type": "code",
      "source": [
        "def f2(x):\n",
        "    result = 0\n",
        "    for i in range(len(x)):\n",
        "        tmp = 0\n",
        "        for j in range(i):\n",
        "            tmp += x[j]\n",
        "\n",
        "        result += tmp**2\n",
        "\n",
        "    return result"
      ],
      "metadata": {
        "id": "ECqRLdzjTcux"
      },
      "execution_count": 16,
      "outputs": []
    },
    {
      "cell_type": "code",
      "source": [
        "def f3(x):\n",
        "    result = 0\n",
        "    for i in range(1, len(x)):\n",
        "        result += 1e6 ** ((i-1)/(len(x)-1)) * x[i]**2\n",
        "\n",
        "    return result"
      ],
      "metadata": {
        "id": "4zGXZFRbTdcy"
      },
      "execution_count": 17,
      "outputs": []
    },
    {
      "cell_type": "code",
      "source": [
        "def f4(x):\n",
        "    result = 0\n",
        "    for i in range(len(x)):\n",
        "        tmp = 0\n",
        "        for j in range(i):\n",
        "            tmp += x[j]\n",
        "\n",
        "        result += tmp**2\n",
        "\n",
        "    return result * (1 + 0.4 * np.abs(np.random.randn()))"
      ],
      "metadata": {
        "id": "N7Vrpv1yTeIV"
      },
      "execution_count": 18,
      "outputs": []
    },
    {
      "cell_type": "code",
      "source": [
        "def f5(x):\n",
        "    A = np.random.randint(-500, 501, size=(len(x), len(x)))\n",
        "\n",
        "    while np.linalg.det(A) == 0:\n",
        "        A = np.random.randint(-500, 501, size=(len(x), len(x)))\n",
        "\n",
        "    return np.max(np.abs(x*A - A))"
      ],
      "metadata": {
        "id": "FuWB7S4ETfKq"
      },
      "execution_count": 19,
      "outputs": []
    },
    {
      "cell_type": "code",
      "source": [
        "print(\"f1(x):\", f1(x))\n",
        "print(\"f2(x):\", f2(x))\n",
        "print(\"f3(x):\", f3(x))\n",
        "print(\"f4(x):\", f4(x))\n",
        "print(\"f5(x):\", f5(x))"
      ],
      "metadata": {
        "id": "I0Uo8-kpTgF1"
      },
      "execution_count": null,
      "outputs": []
    },
    {
      "cell_type": "code",
      "source": [
        "def calculate_min_x(func, no_of_agents, x, es, alpha):\n",
        "    min_x = x\n",
        "    for _ in range(es):\n",
        "        xm = min_x + alpha * np.random.normal(size=len(x))\n",
        "        xm = check_x(xm)\n",
        "        if func(xm) < func(min_x):\n",
        "            min_x = xm\n",
        "    return min_x"
      ],
      "metadata": {
        "id": "IFN4F8E2Tgxs"
      },
      "execution_count": 20,
      "outputs": []
    },
    {
      "cell_type": "code",
      "source": [
        "def get_population(number_of_variables, population_size):\n",
        "    return np.random.normal(size=(population_size, number_of_variables))"
      ],
      "metadata": {
        "id": "eDBJB0FtThuX"
      },
      "execution_count": 21,
      "outputs": []
    },
    {
      "cell_type": "code",
      "source": [
        "initial_alpha = 0.5\n",
        "dimension = 10\n",
        "population_size = 5\n",
        "iterations = 100\n",
        "functions = [f1, f2, f3, f4, f5]\n",
        "population = get_population(dimension, population_size)"
      ],
      "metadata": {
        "id": "4TX84k7UTins"
      },
      "execution_count": 22,
      "outputs": []
    },
    {
      "cell_type": "markdown",
      "source": [
        "# Lab2"
      ],
      "metadata": {
        "id": "3RaDW_o7Vv1c"
      }
    },
    {
      "cell_type": "code",
      "source": [
        "def population_v2_adaptive(population, function, dimension, max_NFE = 1000, initial_alpha = 0.5,):\n",
        "    NFE = 0\n",
        "    iter_no = 0\n",
        "\n",
        "    while NFE < max_NFE:\n",
        "        iter_no += 1\n",
        "        alpha = initial_alpha / (iter_no + 1)\n",
        "        new_population = []\n",
        "\n",
        "        for agent in population:\n",
        "            new_agents = [agent + alpha * np.random.normal(size=dimension) for _ in range(5)]\n",
        "            best_agent = min(new_agents, key=function)\n",
        "            new_population.append(best_agent)\n",
        "\n",
        "            NFE += dimension\n",
        "\n",
        "            if NFE >= max_NFE:\n",
        "                break\n",
        "\n",
        "        if sum([function(agent) for agent in new_population]) < sum([function(agent) for agent in population]):\n",
        "            population = new_population\n",
        "\n",
        "        if NFE >= max_NFE:\n",
        "            break\n",
        "\n",
        "    return population"
      ],
      "metadata": {
        "id": "7vEG8FriTjaQ"
      },
      "execution_count": 33,
      "outputs": []
    },
    {
      "cell_type": "code",
      "source": [
        "print(\"f1(x):\", population_v2_adaptive(population, f1, dimension))\n",
        "print(\"f2(x):\", population_v2_adaptive(population, f2, dimension))\n",
        "print(\"f3(x):\", population_v2_adaptive(population, f3, dimension))\n",
        "print(\"f4(x):\", population_v2_adaptive(population, f4, dimension))\n",
        "print(\"f5(x):\", population_v2_adaptive(population, f5, dimension))"
      ],
      "metadata": {
        "id": "rS7ayMoGTkKe",
        "colab": {
          "base_uri": "https://localhost:8080/"
        },
        "outputId": "b8ac5379-ad4b-4267-8d0e-213158319305"
      },
      "execution_count": 34,
      "outputs": [
        {
          "output_type": "stream",
          "name": "stdout",
          "text": [
            "f1(x): [array([ 0.11750775, -0.44404495, -0.21848158, -0.40152405,  0.08502493,\n",
            "        0.33030404, -0.48885297,  0.65113239,  0.71675038,  0.27460054]), array([ 0.99048162,  1.26568848, -0.38449369,  1.31969432, -0.35320512,\n",
            "       -0.74774516, -0.22734794,  0.04157135, -0.19442679,  0.11893802]), array([-0.6596545 , -0.84798283,  0.15309119,  0.39784247, -0.37094897,\n",
            "       -0.10082373,  0.25277788,  0.25331901, -0.19290092,  0.26579353]), array([-0.41696145,  0.28593243,  0.14565162, -1.01382789,  0.42244268,\n",
            "       -0.82137078,  0.99864761, -1.41629399,  0.80002133,  0.35329819]), array([ 0.11978443, -0.08211577, -0.60943137,  0.05156146, -0.27982093,\n",
            "        0.30985103,  0.0998803 ,  0.19906729, -0.06598721, -0.20646767])]\n",
            "f2(x): [array([ 0.47110749, -0.30221489, -0.61419004, -0.56351924,  0.96760253,\n",
            "       -0.05208055, -0.17976421,  0.58493683,  0.39819158,  0.2955008 ]), array([ 0.9460665 ,  0.67972964, -1.14876697,  2.20706417, -1.05554057,\n",
            "       -0.8413568 , -1.40159008, -0.89825195,  0.77017726,  0.38899176]), array([-0.75067243, -0.99541283,  0.54082792,  1.62518795, -0.56906088,\n",
            "       -0.25753557, -0.24162895,  0.41971049, -0.54354641, -0.07708495]), array([-0.65786226,  0.41656758,  0.59140214, -0.63207714,  0.73904041,\n",
            "       -0.08789645,  0.2544837 , -1.99008107,  1.32062332,  0.76607796]), array([ 0.36050853,  0.19474241, -0.96153472,  0.23548303, -0.39402406,\n",
            "        0.45947009, -0.20147219,  0.40104303,  0.40255552, -0.66950465])]\n",
            "f3(x): [array([ 0.51017637, -0.62083153, -0.75411208, -0.40731545,  0.81802629,\n",
            "        0.83685009, -0.02754702,  0.50547438,  0.0436052 , -0.01943045]), array([ 0.61338479,  1.7237566 , -0.02177131,  2.05222554, -0.68329518,\n",
            "       -0.87054615, -0.51941269, -0.55467703,  0.00955041, -0.00591883]), array([-1.06760968, -2.12576061,  0.60698777,  0.70246999, -1.34725138,\n",
            "       -0.16703243,  0.03126777, -0.01823435,  0.01708763, -0.01618335]), array([-0.54660124, -0.37829364,  0.06320408, -1.18428799, -0.24859039,\n",
            "       -0.90281035,  0.79979399, -1.78387591,  0.10828953,  0.06538261]), array([-0.49290756, -0.23709553,  0.00765029, -0.45598439, -1.23723686,\n",
            "        0.04750134, -0.2047771 ,  0.06648145, -0.00445805, -0.00636306])]\n",
            "f4(x): [array([ 0.08016725,  0.18611698, -0.51076626, -0.62819247,  0.47711642,\n",
            "        0.43826345, -0.42666387,  0.6681411 ,  0.18433077, -0.24418071]), array([ 0.27991114,  0.94560953, -0.92540549,  2.11917368, -1.13754463,\n",
            "       -0.7632886 , -1.01371055, -0.59581838,  0.64350627,  1.06138697]), array([-0.82789882, -1.29237452,  0.58206538,  1.11057496, -0.51954018,\n",
            "       -0.25131262,  0.08850892, -0.25993654, -0.55431937,  0.26588382]), array([-0.49352394,  0.18985572,  0.22928812, -1.02115256,  1.28941536,\n",
            "       -0.38461765,  0.79112259, -1.82815425,  0.86200661,  1.67744398]), array([ 0.18239555,  0.04750554, -0.22643543,  0.48038186, -1.45702105,\n",
            "        0.64903952,  0.21159313,  0.18772883,  0.63521081, -0.81210803])]\n",
            "f5(x): [array([ 0.05837156, -0.48156357, -0.51438956, -0.30238085,  0.62153904,\n",
            "        0.27990047, -0.02007106,  0.58017613,  0.97746682, -0.13356106]), array([ 1.36417585,  1.24894056, -1.00393505,  2.48407461, -1.3192837 ,\n",
            "       -1.35432207, -1.37486818, -0.77999333,  0.97486243,  0.64175816]), array([-1.43132429, -0.90139254,  0.43432599,  0.15220745, -0.58563585,\n",
            "        0.08689007, -0.63374173, -0.08673201, -0.56236916,  0.63935137]), array([-0.87963679, -0.6141204 , -0.61014433, -1.18125619,  0.29810698,\n",
            "       -0.95724414,  0.73425726, -1.61038435, -0.12431882,  0.8220344 ]), array([ 0.1076597 , -0.04171614, -0.82490229,  0.00875281, -0.82692728,\n",
            "        0.53364405, -0.20912473,  0.27638452, -0.5771059 , -0.67780655])]\n"
          ]
        }
      ]
    },
    {
      "cell_type": "markdown",
      "source": [
        "# Lab3"
      ],
      "metadata": {
        "id": "tijrT1NcVxl0"
      }
    },
    {
      "cell_type": "code",
      "source": [
        "def pc_function(iter_no):\n",
        "    return max(0.5, 1 / (1 + iter_no))"
      ],
      "metadata": {
        "id": "-4N3CvfRXPZ7"
      },
      "execution_count": 49,
      "outputs": []
    },
    {
      "cell_type": "code",
      "source": [
        "def pm_function(iter_no):\n",
        "    return max(0.01, 0.1 / (1 + iter_no))"
      ],
      "metadata": {
        "id": "b_Rgobw2XNnm"
      },
      "execution_count": 50,
      "outputs": []
    },
    {
      "cell_type": "code",
      "source": [
        "def sphere_function(x):\n",
        "    return np.sum(np.square(x))"
      ],
      "metadata": {
        "id": "hUjvlS7KXIey"
      },
      "execution_count": 38,
      "outputs": []
    },
    {
      "cell_type": "code",
      "source": [
        "def CGA_adaptiveV1_greedy(population, function, dimension, pc_function = pc_function, pm_function = pm_function, max_NFE = 1000):\n",
        "    NFE = 0\n",
        "    iter_no = 0\n",
        "\n",
        "    while NFE < max_NFE:\n",
        "        iter_no += 1\n",
        "        pc = pc_function(iter_no)\n",
        "        pm = pm_function(iter_no)\n",
        "\n",
        "        new_population = []\n",
        "        for i in range(len(population)):\n",
        "            parent1 = population[i]\n",
        "            parent2 = population[np.random.randint(len(population))]\n",
        "\n",
        "            if np.random.rand() < pc:\n",
        "                crossover_point = np.random.randint(1, dimension - 1)\n",
        "                child = np.concatenate((parent1[:crossover_point], parent2[crossover_point:]))\n",
        "            else:\n",
        "                child = parent1.copy()\n",
        "\n",
        "            if np.random.rand() < pm:\n",
        "                mutation_idx = np.random.randint(dimension)\n",
        "                child[mutation_idx] += np.random.normal()\n",
        "\n",
        "            new_population.append(child)\n",
        "\n",
        "        new_population.sort(key=function)\n",
        "        best_parent = min(population, key=function)\n",
        "        new_population[-1] = best_parent\n",
        "\n",
        "        population = new_population\n",
        "\n",
        "        NFE += len(new_population)\n",
        "\n",
        "    return population"
      ],
      "metadata": {
        "id": "S-roH1JNUK6l"
      },
      "execution_count": 53,
      "outputs": []
    },
    {
      "cell_type": "code",
      "source": [
        "final_population = CGA_adaptiveV1_greedy(population, f1, dimension)\n",
        "print(\"Best solution (CGA):\", min(final_population, key=f1))\n"
      ],
      "metadata": {
        "colab": {
          "base_uri": "https://localhost:8080/"
        },
        "id": "igPynvsoXDR1",
        "outputId": "97a881ac-2333-43eb-81c6-0464171c93c3"
      },
      "execution_count": 76,
      "outputs": [
        {
          "output_type": "stream",
          "name": "stdout",
          "text": [
            "Best solution (CGA): [-0.09196176 -0.14153996 -1.11921004 -0.3453729  -0.3408875   0.23848204\n",
            " -0.13813654  0.12779614  0.09208809 -0.80516765]\n"
          ]
        }
      ]
    },
    {
      "cell_type": "markdown",
      "source": [
        "# Lab4"
      ],
      "metadata": {
        "id": "NfbgfECHVzHk"
      }
    },
    {
      "cell_type": "code",
      "source": [
        "def pc_function_fitness(fitness):\n",
        "    return 0.5 + 0.4 * fitness"
      ],
      "metadata": {
        "id": "FRIlQo36YdHF"
      },
      "execution_count": 41,
      "outputs": []
    },
    {
      "cell_type": "code",
      "source": [
        "def pm_function_fitness(fitness):\n",
        "    return 0.1 - 0.08 * fitness"
      ],
      "metadata": {
        "id": "zvH2V_jkYfFQ"
      },
      "execution_count": 42,
      "outputs": []
    },
    {
      "cell_type": "code",
      "source": [
        "def RGA_4(population, function, dimension,  pc=0.9, pm=0.1, max_NFE=1000):\n",
        "    NFE = 0\n",
        "    while NFE < max_NFE:\n",
        "        new_population = []\n",
        "        for _ in range(len(population) // 2):\n",
        "            parent1, parent2 = population[np.random.choice(len(population), 2, replace=False)]\n",
        "\n",
        "            if np.random.rand() < pc:\n",
        "                alpha = 0.1\n",
        "                child1 = np.random.uniform(np.minimum(parent1, parent2) - alpha * np.abs(parent1 - parent2),\n",
        "                                           np.maximum(parent1, parent2) + alpha * np.abs(parent1 - parent2))\n",
        "                child2 = np.random.uniform(np.minimum(parent1, parent2) - alpha * np.abs(parent1 - parent2),\n",
        "                                           np.maximum(parent1, parent2) + alpha * np.abs(parent1 - parent2))\n",
        "            else:\n",
        "                child1, child2 = parent1.copy(), parent2.copy()\n",
        "\n",
        "            if np.random.rand() < pm:\n",
        "                mutation_idx = np.random.randint(dimension)\n",
        "                child1[mutation_idx] += np.random.normal()\n",
        "            if np.random.rand() < pm:\n",
        "                mutation_idx = np.random.randint(dimension)\n",
        "                child2[mutation_idx] += np.random.normal()\n",
        "\n",
        "            child1 = np.clip(child1, -10, 10)\n",
        "            child2 = np.clip(child2, -10, 10)\n",
        "\n",
        "            new_population.extend([child1, child2])\n",
        "\n",
        "        combined_population = np.vstack((population, new_population))\n",
        "        combined_population = sorted(combined_population, key=function)\n",
        "        population = np.array(combined_population[:len(population)])\n",
        "\n",
        "        NFE += len(new_population)\n",
        "\n",
        "    return population"
      ],
      "metadata": {
        "id": "nVauaoS9a5K9"
      },
      "execution_count": 57,
      "outputs": []
    },
    {
      "cell_type": "code",
      "source": [
        "final_population_v2 = RGA_4(population, f1, dimension)\n",
        "print(\"Best solution (RGA_4):\", min(final_population_v2, key=f1))"
      ],
      "metadata": {
        "id": "8IXrNgCVbId2",
        "outputId": "1abbd4c2-bf1a-40f8-c23d-072a8c0d2090",
        "colab": {
          "base_uri": "https://localhost:8080/"
        }
      },
      "execution_count": 58,
      "outputs": [
        {
          "output_type": "stream",
          "name": "stdout",
          "text": [
            "Best solution (RGA_4): [-4.54518989e-02 -1.00433991e-01  1.04255124e-01  1.07370270e-01\n",
            "  1.40286223e-05  2.12512483e-04 -1.74438506e-01  1.89941376e-01\n",
            " -6.78451144e-02 -1.39195671e-01]\n"
          ]
        }
      ]
    },
    {
      "cell_type": "markdown",
      "source": [
        "# Lab5"
      ],
      "metadata": {
        "id": "Y8n_zd3eV0kD"
      }
    },
    {
      "cell_type": "code",
      "source": [
        "def DE_best_1_exp(population, function, dimension, F=0.8, CR=0.9, max_NFE=1000):\n",
        "    NFE = 0\n",
        "    population_size = population.shape[0]\n",
        "\n",
        "    while NFE < max_NFE:\n",
        "        new_population = []\n",
        "\n",
        "        for i in range(population_size):\n",
        "            best = min(population, key=function)\n",
        "            r1, r2 = population[np.random.choice(population_size, 2, replace=False)]\n",
        "            mutant = best + F * (r1 - r2)\n",
        "\n",
        "            trial = np.copy(population[i])\n",
        "            start_idx = np.random.randint(dimension)\n",
        "            for j in range(dimension):\n",
        "                if np.random.rand() < CR or j == start_idx:\n",
        "                    trial[j] = mutant[j]\n",
        "\n",
        "            trial = np.clip(trial, -10, 10)\n",
        "\n",
        "            if function(trial) < function(population[i]):\n",
        "                new_population.append(trial)\n",
        "            else:\n",
        "                new_population.append(population[i])\n",
        "\n",
        "        population = np.array(new_population)\n",
        "        NFE += population_size\n",
        "\n",
        "    return population\n"
      ],
      "metadata": {
        "id": "mQKxt7-Xb4OD"
      },
      "execution_count": 59,
      "outputs": []
    },
    {
      "cell_type": "code",
      "source": [
        "final_population_v2 = DE_best_1_exp(population, f1, dimension)\n",
        "print(\"Best solution (DE_best_1_exp):\", min(final_population_v2, key=f1))"
      ],
      "metadata": {
        "id": "pfsE1VsOcp7I",
        "outputId": "4785af3c-2a4f-450c-f75a-5663a16e30f7",
        "colab": {
          "base_uri": "https://localhost:8080/"
        }
      },
      "execution_count": 60,
      "outputs": [
        {
          "output_type": "stream",
          "name": "stdout",
          "text": [
            "Best solution (DE_best_1_exp): [ 0.00851977 -0.00119695 -1.06069692 -0.00139594 -0.45633523  0.00186699\n",
            " -0.12003704  0.00292447  0.0412336  -0.07499174]\n"
          ]
        }
      ]
    },
    {
      "cell_type": "markdown",
      "source": [
        "## Butnaru Teodor"
      ],
      "metadata": {
        "id": "DPOVhqo6Uhp_"
      }
    },
    {
      "cell_type": "markdown",
      "source": [
        "# Lab2"
      ],
      "metadata": {
        "id": "MxwRpimNVcJd"
      }
    },
    {
      "cell_type": "code",
      "source": [
        "def population_v1_self_adaptive(population, function, dimension = 10, max_NFE = 1000):\n",
        "    NFE = 0\n",
        "    iter_no = 0\n",
        "    alfa = [[30, -30] for _ in range(len(population))]\n",
        "\n",
        "    while NFE < max_NFE:\n",
        "        iter_no += 1\n",
        "        alpha = initial_alpha / (iter_no + 1)\n",
        "        new_population = []\n",
        "\n",
        "        for i, agent in enumerate(population):\n",
        "            xm = [\n",
        "                agent[0] + alfa[i][0] * random.uniform(-1, 1),\n",
        "                agent[1] + alfa[i][1] * random.uniform(-1, 1)\n",
        "            ]\n",
        "\n",
        "            if function(agent) > function(xm):\n",
        "                new_population.append(xm)\n",
        "            else:\n",
        "                new_population.append(agent)\n",
        "\n",
        "            alfa[i][0] += alfa[i][0] * random.uniform(-1, 1)\n",
        "            alfa[i][1] += alfa[i][1] * random.uniform(-1, 1)\n",
        "\n",
        "            NFE += len(population)\n",
        "\n",
        "            if NFE >= max_NFE:\n",
        "                break\n",
        "\n",
        "        if sum([function(agent) for agent in new_population]) < sum([function(agent) for agent in population]):\n",
        "            population = new_population\n",
        "\n",
        "        if NFE >= max_NFE:\n",
        "            break\n",
        "\n",
        "    return population"
      ],
      "metadata": {
        "id": "phsFlPxxVd9n"
      },
      "execution_count": 63,
      "outputs": []
    },
    {
      "cell_type": "code",
      "source": [
        "print(\"f1(x):\", population_v1_self_adaptive(population, f1))\n",
        "print(\"f2(x):\", population_v1_self_adaptive(population, f2))\n",
        "print(\"f3(x):\", population_v1_self_adaptive(population, f3))\n",
        "print(\"f4(x):\", population_v1_self_adaptive(population, f4))\n",
        "print(\"f5(x):\", population_v1_self_adaptive(population, f5))"
      ],
      "metadata": {
        "id": "okBrj3SMiecH",
        "outputId": "e852d876-3708-4e11-9437-880e127e2540",
        "colab": {
          "base_uri": "https://localhost:8080/"
        }
      },
      "execution_count": 64,
      "outputs": [
        {
          "output_type": "stream",
          "name": "stdout",
          "text": [
            "f1(x): [[-0.01352118905264554, 0.23780518367551345], [1.3499336578485661, -0.08951379346853697], [0.6059359605029607, -1.8878063190396355], [-0.0019102071899059665, -0.36695316886421553], [0.40390723859055205, -0.14028701763243034]]\n",
            "f2(x): [[0.1643909902207465, 625.3907170406704], [-0.0021615363966688535, -47.422642471703924], [0.4891805213640749, 13.441851391764589], [0.003972945903671671, -11.448321702393997], [-0.40452128573157986, 1.377357167094153]]\n",
            "f3(x): [[-28.359707369118542, -11.097171522078357], [1.014585836879162, -0.004974758735202128], [-27.26861084201984, -0.00017030780080262101], [-131.58996517223338, 0.019983778483975482], [-1.0840844759450892, -0.0423792542690081]]\n",
            "f4(x): [[-1.0004525080330997, -1.9835426620082488], [0.045324683325663306, -0.6514043361051425], [-2.2945266372434263, 8.44921491242443], [0.1998215862532821, -2.472225294786878], [-0.10770754506233315, -16.98436390512473]]\n",
            "f5(x): [[1.9628397620755038, 0.4526883804446355], [1.3324385151286102, 4.535754945005091], [6.409666087719957, 6.021946010862773], [-1.8301986772451249, -0.04502357632564093], [0.9639652724373319, -0.41064697888729806]]\n"
          ]
        }
      ]
    },
    {
      "cell_type": "markdown",
      "source": [
        "# Lab3"
      ],
      "metadata": {
        "id": "OI4YEyrMUuOl"
      }
    },
    {
      "cell_type": "code",
      "source": [
        "def pc_function_fit(avg_fitness):\n",
        "    return max(0.5, 1 / (1 + avg_fitness))\n",
        "\n",
        "def pm_function_fit(avg_fitness):\n",
        "    return min(0.1, 1 / (1 + avg_fitness))\n",
        "\n",
        "def sphere_function_fit(agent):\n",
        "    return sum(x**2 for x in agent)"
      ],
      "metadata": {
        "id": "IvcDqnsPiii4"
      },
      "execution_count": 65,
      "outputs": []
    },
    {
      "cell_type": "code",
      "source": [
        "def CGA_adaptiveV2_greedy(population, function ,dimension, pc_function = pc_function_fit, pm_function = pm_function_fit, max_NFE = 1000):\n",
        "    NFE = 0\n",
        "    max_NFE = 1000\n",
        "    iter_no = 0\n",
        "\n",
        "    while NFE < max_NFE:\n",
        "        iter_no += 1\n",
        "\n",
        "        # Calculate fitness-based probabilities (pc and pm) based on the population\n",
        "        avg_fitness = np.mean([function(agent) for agent in population])\n",
        "\n",
        "        # Adjust pc and pm based on average fitness\n",
        "        pc = pc_function_fit(avg_fitness)\n",
        "        pm = pm_function_fit(avg_fitness)\n",
        "\n",
        "        new_population = []\n",
        "        for i in range(len(population)):\n",
        "            parent1 = population[i]\n",
        "            parent2 = population[np.random.randint(len(population))]\n",
        "\n",
        "            # Crossover\n",
        "            if np.random.rand() < pc:\n",
        "                crossover_point = np.random.randint(1, dimension - 1)\n",
        "                child = np.concatenate((parent1[:crossover_point], parent2[crossover_point:]))\n",
        "            else:\n",
        "                child = parent1.copy()\n",
        "\n",
        "            # Mutation\n",
        "            if np.random.rand() < pm:\n",
        "                mutation_idx = np.random.randint(dimension)\n",
        "                child[mutation_idx] += np.random.normal()\n",
        "\n",
        "            new_population.append(child)\n",
        "\n",
        "        # Sort the new population based on fitness (function value)\n",
        "        new_population.sort(key=function)\n",
        "\n",
        "        # Preserve the best solution (elitism)\n",
        "        best_parent = min(population, key=function)\n",
        "        new_population[-1] = best_parent  # Replace worst solution with best solution\n",
        "\n",
        "        # Update population\n",
        "        population = new_population\n",
        "\n",
        "        # Update NFE count (each agent's fitness is evaluated once)\n",
        "        NFE += len(new_population)\n",
        "\n",
        "    return population"
      ],
      "metadata": {
        "id": "HuoqZAfRUhRn"
      },
      "execution_count": 66,
      "outputs": []
    },
    {
      "cell_type": "code",
      "source": [
        "final_population = CGA_adaptiveV2_greedy(population, f1, dimension, pc_function, pm_function)\n",
        "print(\"Best solution (CGA):\", min(final_population, key=sphere_function))"
      ],
      "metadata": {
        "id": "a1bKWuFFion2",
        "outputId": "dac27907-4b15-4fd0-ac5b-f9b418754bc4",
        "colab": {
          "base_uri": "https://localhost:8080/"
        }
      },
      "execution_count": 69,
      "outputs": [
        {
          "output_type": "stream",
          "name": "stdout",
          "text": [
            "Best solution (CGA): [ 0.01573799  0.10432283 -0.06915167  0.03161557  0.7806975  -0.21944339\n",
            " -0.00609168  0.19366724  0.09208809 -0.00288048]\n"
          ]
        }
      ]
    },
    {
      "cell_type": "markdown",
      "source": [
        "# Lab4"
      ],
      "metadata": {
        "id": "yAzFFgPnUv2u"
      }
    },
    {
      "cell_type": "code",
      "source": [
        "def RGA_3(population, function, dimension, pc = 0.8, pm = 0.1, max_NFE = 1000):\n",
        "    NFE = 0\n",
        "\n",
        "    while NFE < max_NFE:\n",
        "\n",
        "        fitness_values = np.array([function(individual) for individual in population])\n",
        "        NFE += len(population)\n",
        "\n",
        "        new_population = []\n",
        "\n",
        "        for _ in range(len(population) // 2):\n",
        "\n",
        "            parent1 = population[np.random.randint(len(population))]\n",
        "            parent2 = population[np.random.randint(len(population))]\n",
        "\n",
        "            if np.random.rand() < pc:\n",
        "                d = np.abs(parent1 - parent2)\n",
        "                lower = np.minimum(parent1, parent2) - 0.5 * d\n",
        "                upper = np.maximum(parent1, parent2) + 0.5 * d\n",
        "                child1 = np.random.uniform(lower, upper)\n",
        "                child2 = np.random.uniform(lower, upper)\n",
        "            else:\n",
        "                child1, child2 = parent1.copy(), parent2.copy()\n",
        "\n",
        "            if np.random.rand() < pm:\n",
        "                mutation_idx = np.random.randint(dimension)\n",
        "                child1[mutation_idx] += np.random.normal()\n",
        "\n",
        "            if np.random.rand() < pm:\n",
        "                mutation_idx = np.random.randint(dimension)\n",
        "                child2[mutation_idx] += np.random.normal()\n",
        "\n",
        "            new_population.extend([child1, child2])\n",
        "\n",
        "        new_population.sort(key=function)\n",
        "        population = new_population[:len(population)]\n",
        "\n",
        "    return population"
      ],
      "metadata": {
        "id": "hK6vNsPkUypB"
      },
      "execution_count": 77,
      "outputs": []
    },
    {
      "cell_type": "code",
      "source": [
        "print(RGA_3(population, f1, dimension))"
      ],
      "metadata": {
        "id": "JbQY_AMOkShc",
        "outputId": "73f63dd9-61b0-47af-ceb3-9a2ca1b9ee63",
        "colab": {
          "base_uri": "https://localhost:8080/"
        }
      },
      "execution_count": 79,
      "outputs": [
        {
          "output_type": "stream",
          "name": "stdout",
          "text": [
            "[array([-0.95322677,  0.82047725,  3.83667347,  0.21932689,  0.7458989 ,\n",
            "        4.32276803, -2.09161965, -3.17407112,  3.66684596, -1.06756471]), array([-0.95322677,  0.98212245,  3.83667347,  0.21932689,  0.7458989 ,\n",
            "        4.32276803, -2.20742829, -3.17407112,  3.66684596, -1.06756471]), array([-0.95322677,  0.98212245,  3.83667347,  0.21932689,  0.7458989 ,\n",
            "        4.32276803, -2.20742829, -3.17407112,  3.66684596, -1.06756471]), array([-0.95322677,  2.53321264,  3.83667347,  0.21932689,  0.7458989 ,\n",
            "        4.32276803, -2.48828701, -3.17407112,  3.66684596, -1.06756471])]\n"
          ]
        }
      ]
    },
    {
      "cell_type": "code",
      "source": [
        "best_solution, best_fitness, nfe_used = RGA_3(\n",
        "    pc=0.8,\n",
        "    pm=0.1,\n",
        "    population=population,\n",
        "    function=f1,\n",
        "    dimension=dimension\n",
        ")\n",
        "\n",
        "print(\"Best Solution:\", best_solution)\n",
        "print(\"Best Fitness:\", best_fitness)\n",
        "print(\"Number of Function Evaluations:\", nfe_used)"
      ],
      "metadata": {
        "id": "-dCJ9N88i-Bc",
        "outputId": "72e3d897-a2b4-43ef-de67-8fe1d53e6d72",
        "colab": {
          "base_uri": "https://localhost:8080/"
        }
      },
      "execution_count": 72,
      "outputs": [
        {
          "output_type": "stream",
          "name": "stdout",
          "text": [
            "Best Solution: [-0.09786387 -2.31174493 -4.20693372  0.49815267 -2.76448368  0.04635817\n",
            " -1.17218954  0.60724168  1.53723117  1.75383046]\n",
            "Best Fitness: 38.126480225321\n",
            "Number of Function Evaluations: 1001\n"
          ]
        }
      ]
    },
    {
      "cell_type": "markdown",
      "source": [
        "# Lab5"
      ],
      "metadata": {
        "id": "gIjw9sTWU0A_"
      }
    },
    {
      "cell_type": "code",
      "source": [
        "def DE_rand_to_best_1_exp(population, function, dimension, F = 0.5, CR = 0.9,  max_NFE = 1000):\n",
        "    NFE = 0\n",
        "    population_size = len(population)\n",
        "\n",
        "    while NFE < max_NFE:\n",
        "        fitness_values = np.array([function(ind) for ind in population])\n",
        "        best_idx = np.argmin(fitness_values)\n",
        "        best_individual = population[best_idx]\n",
        "        NFE += len(population)\n",
        "\n",
        "        new_population = []\n",
        "\n",
        "        for i in range(population_size):\n",
        "            x_rand = population[np.random.randint(population_size)]\n",
        "            x1, x2 = population[np.random.choice([j for j in range(population_size) if j != i], size=2, replace=False)]\n",
        "            mutant_vector = x_rand + F * (best_individual - x_rand) + F * (x1 - x2)\n",
        "\n",
        "            trial_vector = population[i].copy()\n",
        "            start_index = np.random.randint(dimension)\n",
        "            length = 0\n",
        "            while np.random.rand() < CR and length < dimension:\n",
        "                trial_vector[(start_index + length) % dimension] = mutant_vector[(start_index + length) % dimension]\n",
        "                length += 1\n",
        "\n",
        "            if function(trial_vector) < fitness_values[i]:\n",
        "                new_population.append(trial_vector)\n",
        "            else:\n",
        "                new_population.append(population[i])\n",
        "\n",
        "        population = np.array(new_population)\n",
        "\n",
        "    return population\n"
      ],
      "metadata": {
        "id": "ynIGGoeaU13P"
      },
      "execution_count": 82,
      "outputs": []
    },
    {
      "cell_type": "code",
      "source": [
        "print(DE_rand_to_best_1_exp(population, f1, dimension))"
      ],
      "metadata": {
        "id": "1VU2nILuk0bJ",
        "outputId": "db859a03-8478-4033-8575-fa251db2e03f",
        "colab": {
          "base_uri": "https://localhost:8080/"
        }
      },
      "execution_count": 83,
      "outputs": [
        {
          "output_type": "stream",
          "name": "stdout",
          "text": [
            "[[-0.14049641 -0.57478913 -0.68415739 -0.18784577 -0.42693908  0.18888711\n",
            "  -0.00232917 -0.0323413   0.24574033  0.14048701]\n",
            " [-0.14049641 -0.57478913 -0.68415739 -0.18784577 -0.42693908  0.18888711\n",
            "  -0.00232917 -0.0323413   0.24574033  0.14048701]\n",
            " [-0.14049641 -0.57478913 -0.68415739 -0.18784577 -0.42693908  0.18888711\n",
            "  -0.00232917 -0.0323413   0.24574033  0.14048701]\n",
            " [-0.14049641 -0.57478913 -0.68415739 -0.18784577 -0.42693908  0.18888711\n",
            "  -0.00232917 -0.0323413   0.24574033  0.14048701]\n",
            " [-0.14049641 -0.57478913 -0.68415739 -0.18784577 -0.42693908  0.18888711\n",
            "  -0.00232917 -0.0323413   0.24574033  0.14048701]]\n"
          ]
        }
      ]
    },
    {
      "cell_type": "code",
      "source": [
        "best_solution, best_fitness, nfe_used = DE_rand_to_best_1_exp(\n",
        "    F=0.5,\n",
        "    CR=0.9,\n",
        "    population=population,\n",
        "    function=f2,\n",
        "    dimension=dimension\n",
        ")\n",
        "\n",
        "print(\"Best Solution:\", best_solution)\n",
        "print(\"Best Fitness:\", best_fitness)\n",
        "print(\"Number of Function Evaluations:\", nfe_used)"
      ],
      "metadata": {
        "id": "L7h7W2GAU5lI",
        "colab": {
          "base_uri": "https://localhost:8080/"
        },
        "outputId": "0d6446fd-e71b-47c1-cc00-12db0b80b936"
      },
      "execution_count": 74,
      "outputs": [
        {
          "output_type": "stream",
          "name": "stdout",
          "text": [
            "Best Solution: [ 0.63813162 -0.22545519 -0.758855   -0.54907042  0.80964292  0.09009673\n",
            " -0.04221031 -0.15259839  0.38692995  0.18542703]\n",
            "Best Fitness: 1.5824726731828715\n",
            "Number of Function Evaluations: 1000\n"
          ]
        }
      ]
    },
    {
      "cell_type": "markdown",
      "source": [
        "**Laboratory 6. Testing meta-heuristics**"
      ],
      "metadata": {
        "id": "VmUW0eC3WXkj"
      }
    },
    {
      "cell_type": "code",
      "source": [
        "import pandas as pd"
      ],
      "metadata": {
        "id": "_qE59FTYqX8I"
      },
      "execution_count": 84,
      "outputs": []
    },
    {
      "cell_type": "code",
      "source": [
        "D = [5, 10]\n",
        "NEF = 1000\n",
        "\n",
        "functions = [f1, f2, f3, f4, f5]\n",
        "population_size = 5\n",
        "algoritms = [population_v2_adaptive, CGA_adaptiveV1_greedy, RGA_4, DE_best_1_exp, population_v1_self_adaptive, CGA_adaptiveV2_greedy, RGA_3, DE_rand_to_best_1_exp]\n",
        "\n",
        "\n",
        "for dimension in D:\n",
        "  print(\"Dimension: \", dimension)\n",
        "  population = get_population(dimension, population_size)\n",
        "  for algoritm in algoritms:\n",
        "    print(\"Algoritm: \", algoritm.__name__)\n",
        "    for function in functions:\n",
        "      print(\"Function: \", function.__name__)\n",
        "      results = []\n",
        "      for i in range(10):\n",
        "        population = get_population(dimension, population_size)\n",
        "        result_populations = algoritm(population, function, dimension, max_NFE=NEF)\n",
        "        results.append(function(min(result_populations, key=function)))\n",
        "\n",
        "      df = pd.DataFrame({\"results\" : results})\n",
        "      stats = df.describe().loc[['min', 'max', 'mean', 'std']]\n",
        "      print(stats)\n",
        "      print()\n",
        "\n",
        "\n"
      ],
      "metadata": {
        "colab": {
          "base_uri": "https://localhost:8080/"
        },
        "id": "iw9xGhYjWWw-",
        "outputId": "a63f4f84-306f-4023-a64e-6fcf3eff83c2"
      },
      "execution_count": 86,
      "outputs": [
        {
          "output_type": "stream",
          "name": "stdout",
          "text": [
            "Dimension:  5\n",
            "Algoritm:  population_v2_adaptive\n",
            "Function:  f1\n",
            "       results\n",
            "min   0.000402\n",
            "max   0.145336\n",
            "mean  0.016914\n",
            "std   0.045311\n",
            "\n",
            "Function:  f2\n",
            "       results\n",
            "min   0.000125\n",
            "max   0.030256\n",
            "mean  0.006509\n",
            "std   0.010377\n",
            "\n",
            "Function:  f3\n",
            "         results\n",
            "min     0.579690\n",
            "max   128.393027\n",
            "mean   18.134204\n",
            "std    39.318096\n",
            "\n",
            "Function:  f4\n",
            "       results\n",
            "min   0.000832\n",
            "max   1.503928\n",
            "mean  0.456681\n",
            "std   0.484887\n",
            "\n",
            "Function:  f5\n",
            "         results\n",
            "min   254.049655\n",
            "max   930.880882\n",
            "mean  532.707284\n",
            "std   226.605983\n",
            "\n",
            "Algoritm:  CGA_adaptiveV1_greedy\n",
            "Function:  f1\n",
            "       results\n",
            "min   0.146684\n",
            "max   1.525849\n",
            "mean  0.891718\n",
            "std   0.513021\n",
            "\n",
            "Function:  f2\n",
            "       results\n",
            "min   0.061483\n",
            "max   1.827931\n",
            "mean  0.583181\n",
            "std   0.504534\n",
            "\n",
            "Function:  f3\n",
            "           results\n",
            "min      61.362127\n",
            "max   14079.761059\n",
            "mean   2636.621743\n",
            "std    4231.252033\n",
            "\n",
            "Function:  f4\n",
            "       results\n",
            "min   0.178737\n",
            "max   2.210423\n",
            "mean  1.149990\n",
            "std   0.593612\n",
            "\n",
            "Function:  f5\n",
            "          results\n",
            "min    118.206477\n",
            "max   1017.636608\n",
            "mean   474.056272\n",
            "std    233.318077\n",
            "\n",
            "Algoritm:  RGA_4\n",
            "Function:  f1\n",
            "       results\n",
            "min   0.000297\n",
            "max   0.040195\n",
            "mean  0.016249\n",
            "std   0.015936\n",
            "\n",
            "Function:  f2\n",
            "       results\n",
            "min   0.044615\n",
            "max   0.464614\n",
            "mean  0.182569\n",
            "std   0.168412\n",
            "\n",
            "Function:  f3\n",
            "        results\n",
            "min    0.091864\n",
            "max   69.031550\n",
            "mean  19.094893\n",
            "std   22.858921\n",
            "\n",
            "Function:  f4\n",
            "       results\n",
            "min   0.061679\n",
            "max   0.630896\n",
            "mean  0.202265\n",
            "std   0.167507\n",
            "\n",
            "Function:  f5\n",
            "         results\n",
            "min    62.447492\n",
            "max   336.013021\n",
            "mean  172.086121\n",
            "std    85.405645\n",
            "\n",
            "Algoritm:  DE_best_1_exp\n",
            "Function:  f1\n",
            "       results\n",
            "min   0.000133\n",
            "max   0.413726\n",
            "mean  0.112212\n",
            "std   0.141302\n",
            "\n",
            "Function:  f2\n",
            "       results\n",
            "min   0.001609\n",
            "max   0.567749\n",
            "mean  0.183241\n",
            "std   0.183215\n",
            "\n",
            "Function:  f3\n",
            "         results\n",
            "min     0.023386\n",
            "max   816.484178\n",
            "mean  116.889029\n",
            "std   252.286435\n",
            "\n",
            "Function:  f4\n",
            "       results\n",
            "min   0.001125\n",
            "max   0.114709\n",
            "mean  0.025037\n",
            "std   0.037874\n",
            "\n",
            "Function:  f5\n",
            "         results\n",
            "min    94.733922\n",
            "max   718.311762\n",
            "mean  304.653471\n",
            "std   204.638763\n",
            "\n",
            "Algoritm:  population_v1_self_adaptive\n",
            "Function:  f1\n",
            "       results\n",
            "min   0.000666\n",
            "max   0.130351\n",
            "mean  0.035120\n",
            "std   0.041148\n",
            "\n",
            "Function:  f2\n",
            "           results\n",
            "min   1.423976e-10\n",
            "max   7.260304e-05\n",
            "mean  8.956493e-06\n",
            "std   2.290932e-05\n",
            "\n",
            "Function:  f3\n",
            "           results\n",
            "min   1.238155e-09\n",
            "max   2.526418e-02\n",
            "mean  3.903857e-03\n",
            "std   8.620496e-03\n",
            "\n",
            "Function:  f4\n",
            "           results\n",
            "min   1.388951e-08\n",
            "max   8.686080e-02\n",
            "mean  9.539382e-03\n",
            "std   2.723296e-02\n",
            "\n",
            "Function:  f5\n",
            "          results\n",
            "min     15.459986\n",
            "max   1398.729276\n",
            "mean   306.668203\n",
            "std    416.675580\n",
            "\n",
            "Algoritm:  CGA_adaptiveV2_greedy\n",
            "Function:  f1\n",
            "       results\n",
            "min   0.000759\n",
            "max   0.042221\n",
            "mean  0.019893\n",
            "std   0.015089\n",
            "\n",
            "Function:  f2\n",
            "       results\n",
            "min   0.022260\n",
            "max   0.440404\n",
            "mean  0.190278\n",
            "std   0.133557\n",
            "\n",
            "Function:  f3\n",
            "          results\n",
            "min     89.024728\n",
            "max   7613.992668\n",
            "mean  2597.605009\n",
            "std   2111.245152\n",
            "\n",
            "Function:  f4\n",
            "       results\n",
            "min   0.024654\n",
            "max   1.599005\n",
            "mean  0.513505\n",
            "std   0.548440\n",
            "\n",
            "Function:  f5\n",
            "         results\n",
            "min   399.103363\n",
            "max   637.401820\n",
            "mean  494.320850\n",
            "std    74.352996\n",
            "\n",
            "Algoritm:  RGA_3\n",
            "Function:  f1\n",
            "        results\n",
            "min   19.826140\n",
            "max   49.695373\n",
            "mean  33.678435\n",
            "std   11.104712\n",
            "\n",
            "Function:  f2\n",
            "         results\n",
            "min     4.896063\n",
            "max   387.163030\n",
            "mean   85.511826\n",
            "std   116.028218\n",
            "\n",
            "Function:  f3\n",
            "           results\n",
            "min   7.853399e+03\n",
            "max   3.218153e+06\n",
            "mean  4.340754e+05\n",
            "std   9.857707e+05\n",
            "\n",
            "Function:  f4\n",
            "         results\n",
            "min     5.639967\n",
            "max   338.744402\n",
            "mean  101.778451\n",
            "std   103.933966\n",
            "\n",
            "Function:  f5\n",
            "          results\n",
            "min    695.326878\n",
            "max   4794.577976\n",
            "mean  2198.550085\n",
            "std   1427.728125\n",
            "\n",
            "Algoritm:  DE_rand_to_best_1_exp\n",
            "Function:  f1\n",
            "       results\n",
            "min   0.010597\n",
            "max   0.701376\n",
            "mean  0.242111\n",
            "std   0.264921\n",
            "\n",
            "Function:  f2\n",
            "       results\n",
            "min   0.003691\n",
            "max   1.267659\n",
            "mean  0.378816\n",
            "std   0.395289\n",
            "\n",
            "Function:  f3\n",
            "          results\n",
            "min     10.555548\n",
            "max   1860.806397\n",
            "mean   310.119214\n",
            "std    596.822214\n",
            "\n",
            "Function:  f4\n",
            "       results\n",
            "min   0.003366\n",
            "max   1.574893\n",
            "mean  0.254166\n",
            "std   0.477163\n",
            "\n",
            "Function:  f5\n",
            "         results\n",
            "min   330.273549\n",
            "max   820.997300\n",
            "mean  520.084480\n",
            "std   162.204276\n",
            "\n",
            "Dimension:  10\n",
            "Algoritm:  population_v2_adaptive\n",
            "Function:  f1\n",
            "       results\n",
            "min   0.823218\n",
            "max   2.507203\n",
            "mean  1.407353\n",
            "std   0.561976\n",
            "\n",
            "Function:  f2\n",
            "       results\n",
            "min   0.158862\n",
            "max   2.146929\n",
            "mean  1.085667\n",
            "std   0.647191\n",
            "\n",
            "Function:  f3\n",
            "          results\n",
            "min    347.772919\n",
            "max   8819.753367\n",
            "mean  2173.945121\n",
            "std   2898.873792\n",
            "\n",
            "Function:  f4\n",
            "       results\n",
            "min   0.983849\n",
            "max   7.176410\n",
            "mean  2.801257\n",
            "std   2.245681\n",
            "\n",
            "Function:  f5\n",
            "          results\n",
            "min    531.530916\n",
            "max   1345.770217\n",
            "mean   865.518529\n",
            "std    232.513297\n",
            "\n",
            "Algoritm:  CGA_adaptiveV1_greedy\n",
            "Function:  f1\n",
            "       results\n",
            "min   1.623072\n",
            "max   8.194684\n",
            "mean  4.493662\n",
            "std   2.304688\n",
            "\n",
            "Function:  f2\n",
            "       results\n",
            "min   1.110311\n",
            "max   5.761517\n",
            "mean  3.302463\n",
            "std   1.674512\n",
            "\n",
            "Function:  f3\n",
            "           results\n",
            "min    7038.876843\n",
            "max   50346.945166\n",
            "mean  29664.216081\n",
            "std   14040.344931\n",
            "\n",
            "Function:  f4\n",
            "        results\n",
            "min    1.109458\n",
            "max   12.437161\n",
            "mean   4.937520\n",
            "std    3.652212\n",
            "\n",
            "Function:  f5\n",
            "          results\n",
            "min    523.200374\n",
            "max   1025.355068\n",
            "mean   756.861996\n",
            "std    175.800955\n",
            "\n",
            "Algoritm:  RGA_4\n",
            "Function:  f1\n",
            "       results\n",
            "min   0.006096\n",
            "max   0.315825\n",
            "mean  0.118825\n",
            "std   0.113656\n",
            "\n",
            "Function:  f2\n",
            "       results\n",
            "min   0.507402\n",
            "max   2.741625\n",
            "mean  1.107566\n",
            "std   0.733687\n",
            "\n",
            "Function:  f3\n",
            "          results\n",
            "min     25.459824\n",
            "max   2816.856943\n",
            "mean  1032.511999\n",
            "std   1025.443574\n",
            "\n",
            "Function:  f4\n",
            "       results\n",
            "min   0.204821\n",
            "max   5.526869\n",
            "mean  1.888858\n",
            "std   1.454581\n",
            "\n",
            "Function:  f5\n",
            "         results\n",
            "min   333.541259\n",
            "max   538.315152\n",
            "mean  411.596450\n",
            "std    69.462127\n",
            "\n",
            "Algoritm:  DE_best_1_exp\n",
            "Function:  f1\n",
            "       results\n",
            "min   0.001542\n",
            "max   3.199080\n",
            "mean  1.523542\n",
            "std   0.910142\n",
            "\n",
            "Function:  f2\n",
            "       results\n",
            "min   0.101027\n",
            "max   5.141803\n",
            "mean  1.630728\n",
            "std   1.748580\n",
            "\n",
            "Function:  f3\n",
            "           results\n",
            "min      78.242239\n",
            "max   34231.748003\n",
            "mean   5279.043061\n",
            "std   10363.244780\n",
            "\n",
            "Function:  f4\n",
            "       results\n",
            "min   0.108721\n",
            "max   2.986558\n",
            "mean  0.991436\n",
            "std   0.907766\n",
            "\n",
            "Function:  f5\n",
            "         results\n",
            "min   281.783539\n",
            "max   771.857641\n",
            "mean  521.310302\n",
            "std   162.757508\n",
            "\n",
            "Algoritm:  population_v1_self_adaptive\n",
            "Function:  f1\n",
            "       results\n",
            "min   0.000234\n",
            "max   0.191650\n",
            "mean  0.058777\n",
            "std   0.072131\n",
            "\n",
            "Function:  f2\n",
            "           results\n",
            "min   3.826044e-11\n",
            "max   7.008422e-04\n",
            "mean  1.142207e-04\n",
            "std   2.289761e-04\n",
            "\n",
            "Function:  f3\n",
            "           results\n",
            "min   5.116465e-09\n",
            "max   9.253116e-03\n",
            "mean  1.953293e-03\n",
            "std   3.498996e-03\n",
            "\n",
            "Function:  f4\n",
            "           results\n",
            "min   1.937511e-07\n",
            "max   1.156169e-01\n",
            "mean  1.814617e-02\n",
            "std   3.963584e-02\n",
            "\n",
            "Function:  f5\n",
            "         results\n",
            "min    30.731018\n",
            "max   806.194368\n",
            "mean  207.104597\n",
            "std   227.464389\n",
            "\n",
            "Algoritm:  CGA_adaptiveV2_greedy\n",
            "Function:  f1\n",
            "       results\n",
            "min   0.038310\n",
            "max   2.176924\n",
            "mean  0.610845\n",
            "std   0.704173\n",
            "\n",
            "Function:  f2\n",
            "       results\n",
            "min   0.648203\n",
            "max   5.018804\n",
            "mean  2.212007\n",
            "std   1.485477\n",
            "\n",
            "Function:  f3\n",
            "            results\n",
            "min    30103.274157\n",
            "max   151933.499771\n",
            "mean   59841.138021\n",
            "std    36771.843157\n",
            "\n",
            "Function:  f4\n",
            "       results\n",
            "min   1.804810\n",
            "max   6.180093\n",
            "mean  2.997293\n",
            "std   1.272454\n",
            "\n",
            "Function:  f5\n",
            "          results\n",
            "min    577.311393\n",
            "max   1012.090959\n",
            "mean   796.732430\n",
            "std    134.858629\n",
            "\n",
            "Algoritm:  RGA_3\n",
            "Function:  f1\n",
            "         results\n",
            "min    24.391553\n",
            "max   101.937877\n",
            "mean   47.407598\n",
            "std    24.145512\n",
            "\n",
            "Function:  f2\n",
            "         results\n",
            "min     5.544460\n",
            "max   627.676299\n",
            "mean  139.823039\n",
            "std   192.544705\n",
            "\n",
            "Function:  f3\n",
            "           results\n",
            "min   6.490626e+04\n",
            "max   2.629239e+06\n",
            "mean  1.239344e+06\n",
            "std   1.067589e+06\n",
            "\n",
            "Function:  f4\n",
            "         results\n",
            "min    31.966535\n",
            "max   480.516732\n",
            "mean  201.600179\n",
            "std   138.494553\n",
            "\n",
            "Function:  f5\n",
            "          results\n",
            "min   1028.005485\n",
            "max   2843.998833\n",
            "mean  1889.537498\n",
            "std    616.450371\n",
            "\n",
            "Algoritm:  DE_rand_to_best_1_exp\n",
            "Function:  f1\n",
            "       results\n",
            "min   0.819526\n",
            "max   3.444424\n",
            "mean  1.668093\n",
            "std   0.750150\n",
            "\n",
            "Function:  f2\n",
            "       results\n",
            "min   0.653434\n",
            "max   3.737591\n",
            "mean  1.783581\n",
            "std   0.997887\n",
            "\n",
            "Function:  f3\n",
            "           results\n",
            "min     986.834778\n",
            "max   35366.372476\n",
            "mean  10292.564841\n",
            "std   11653.505617\n",
            "\n",
            "Function:  f4\n",
            "       results\n",
            "min   0.820332\n",
            "max   9.434193\n",
            "mean  2.745311\n",
            "std   2.458451\n",
            "\n",
            "Function:  f5\n",
            "         results\n",
            "min   418.362887\n",
            "max   895.787838\n",
            "mean  700.668229\n",
            "std   127.714026\n",
            "\n"
          ]
        }
      ]
    }
  ]
}