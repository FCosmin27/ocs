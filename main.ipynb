{
  "nbformat": 4,
  "nbformat_minor": 0,
  "metadata": {
    "colab": {
      "provenance": [],
      "authorship_tag": "ABX9TyMAKEV2OFAxt8NH7hKJXJ1p",
      "include_colab_link": true
    },
    "kernelspec": {
      "name": "python3",
      "display_name": "Python 3"
    },
    "language_info": {
      "name": "python"
    }
  },
  "cells": [
    {
      "cell_type": "markdown",
      "metadata": {
        "id": "view-in-github",
        "colab_type": "text"
      },
      "source": [
        "<a href=\"https://colab.research.google.com/github/FCosmin27/ocs/blob/main/main.ipynb\" target=\"_parent\"><img src=\"https://colab.research.google.com/assets/colab-badge.svg\" alt=\"Open In Colab\"/></a>"
      ]
    },
    {
      "cell_type": "code",
      "execution_count": 1,
      "metadata": {
        "id": "tjSYtHF2S9_m"
      },
      "outputs": [],
      "source": [
        "import numpy as np\n",
        "import random"
      ]
    },
    {
      "cell_type": "code",
      "source": [
        "upper_bound = 100\n",
        "lower_bound = -100\n",
        "no_of_variables = 10"
      ],
      "metadata": {
        "id": "rnwQSE8vTXgr"
      },
      "execution_count": 2,
      "outputs": []
    },
    {
      "cell_type": "code",
      "source": [
        "def check_x(x):\n",
        "    for i in range(len(x)):\n",
        "        if x[i] > upper_bound:\n",
        "            x[i] = upper_bound\n",
        "        elif x[i] < lower_bound:\n",
        "            x[i] = lower_bound\n",
        "    return x"
      ],
      "metadata": {
        "id": "J8hQyFcqTZaf"
      },
      "execution_count": 3,
      "outputs": []
    },
    {
      "cell_type": "code",
      "source": [
        "x = np.random.normal(size=no_of_variables)\n",
        "\n",
        "x = check_x(x)\n",
        "print(x)"
      ],
      "metadata": {
        "colab": {
          "base_uri": "https://localhost:8080/"
        },
        "id": "rQUMPzvaTatT",
        "outputId": "f4a349c1-9709-4c0c-f68d-d5a48edfa760"
      },
      "execution_count": 4,
      "outputs": [
        {
          "output_type": "stream",
          "name": "stdout",
          "text": [
            "[ 1.39647607  0.05952313  0.0163228  -0.20732874 -0.05416054  1.77906818\n",
            "  2.21661906  0.0672337  -0.44894654  0.68630529]\n"
          ]
        }
      ]
    },
    {
      "cell_type": "code",
      "source": [
        "def f1(x):\n",
        "    return np.sum(np.square(x))"
      ],
      "metadata": {
        "id": "FcdAXvYHTbyJ"
      },
      "execution_count": 5,
      "outputs": []
    },
    {
      "cell_type": "code",
      "source": [
        "def f2(x):\n",
        "    result = 0\n",
        "    for i in range(no_of_variables):\n",
        "        tmp = 0\n",
        "        for j in range(i):\n",
        "            tmp += x[j]\n",
        "\n",
        "        result += tmp**2\n",
        "\n",
        "    return result"
      ],
      "metadata": {
        "id": "ECqRLdzjTcux"
      },
      "execution_count": 6,
      "outputs": []
    },
    {
      "cell_type": "code",
      "source": [
        "def f3(x):\n",
        "    result = 0\n",
        "    for i in range(1, no_of_variables):\n",
        "        result += 1e6 ** ((i-1)/(no_of_variables-1)) * x[i]**2\n",
        "\n",
        "    return result"
      ],
      "metadata": {
        "id": "4zGXZFRbTdcy"
      },
      "execution_count": 7,
      "outputs": []
    },
    {
      "cell_type": "code",
      "source": [
        "def f4(x):\n",
        "    result = 0\n",
        "    for i in range(no_of_variables):\n",
        "        tmp = 0\n",
        "        for j in range(i):\n",
        "            tmp += x[j]\n",
        "\n",
        "        result += tmp**2\n",
        "\n",
        "    return result * (1 + 0.4 * np.abs(np.random.randn()))"
      ],
      "metadata": {
        "id": "N7Vrpv1yTeIV"
      },
      "execution_count": 8,
      "outputs": []
    },
    {
      "cell_type": "code",
      "source": [
        "def f5(x):\n",
        "    A = np.random.randint(-500, 501, size=(no_of_variables, no_of_variables))\n",
        "\n",
        "    while np.linalg.det(A) == 0:\n",
        "        A = np.random.randint(-500, 501, size=(no_of_variables, no_of_variables))\n",
        "\n",
        "    return np.max(np.abs(x*A - A))"
      ],
      "metadata": {
        "id": "FuWB7S4ETfKq"
      },
      "execution_count": 9,
      "outputs": []
    },
    {
      "cell_type": "code",
      "source": [
        "print(\"f1(x):\", f1(x))\n",
        "print(\"f2(x):\", f2(x))\n",
        "print(\"f3(x):\", f3(x))\n",
        "print(\"f4(x):\", f4(x))\n",
        "print(\"f5(x):\", f5(x))"
      ],
      "metadata": {
        "id": "I0Uo8-kpTgF1"
      },
      "execution_count": null,
      "outputs": []
    },
    {
      "cell_type": "code",
      "source": [
        "def calculate_min_x(func, no_of_agents, x, es, alpha):\n",
        "    min_x = x\n",
        "    for _ in range(es):\n",
        "        xm = min_x + alpha * np.random.normal(size=no_of_variables)\n",
        "        xm = check_x(xm)\n",
        "        if func(xm) < func(min_x):\n",
        "            min_x = xm\n",
        "    return min_x"
      ],
      "metadata": {
        "id": "IFN4F8E2Tgxs"
      },
      "execution_count": 10,
      "outputs": []
    },
    {
      "cell_type": "code",
      "source": [
        "def get_population(number_of_variables, population_size):\n",
        "    return np.random.normal(size=(population_size, number_of_variables))"
      ],
      "metadata": {
        "id": "eDBJB0FtThuX"
      },
      "execution_count": 11,
      "outputs": []
    },
    {
      "cell_type": "code",
      "source": [
        "initial_alpha = 0.5\n",
        "no_of_variables = 10\n",
        "population_size = 5\n",
        "iterations = 100\n",
        "functions = [f1, f2, f3, f4, f5]\n",
        "population = get_population(no_of_variables, population_size)"
      ],
      "metadata": {
        "id": "4TX84k7UTins"
      },
      "execution_count": 12,
      "outputs": []
    },
    {
      "cell_type": "code",
      "source": [
        "def population_v2_adaptive(population, function):\n",
        "    for iter_no in range(iterations):\n",
        "        alpha = initial_alpha / (iter_no + 1)\n",
        "        new_population = []\n",
        "\n",
        "        for agent in population:\n",
        "            new_agents = [agent + alpha * np.random.normal(size=no_of_variables) for _ in range(5)]\n",
        "            best_agent = min(new_agents, key=lambda x: function(x))\n",
        "            new_population.append(best_agent)\n",
        "\n",
        "        if sum([function(agent) for agent in new_population]) < sum([function(agent) for agent in population]):\n",
        "            population = new_population\n",
        "\n",
        "    return population"
      ],
      "metadata": {
        "id": "7vEG8FriTjaQ"
      },
      "execution_count": null,
      "outputs": []
    },
    {
      "cell_type": "code",
      "source": [
        "print(\"f1(x):\", population_v2_adaptive(population, f1))\n",
        "print(\"f2(x):\", population_v2_adaptive(population, f2))\n",
        "print(\"f3(x):\", population_v2_adaptive(population, f3))\n",
        "print(\"f4(x):\", population_v2_adaptive(population, f4))\n",
        "print(\"f5(x):\", population_v2_adaptive(population, f5))"
      ],
      "metadata": {
        "id": "rS7ayMoGTkKe"
      },
      "execution_count": null,
      "outputs": []
    },
    {
      "cell_type": "code",
      "source": [
        "for idx, population in enumerate(population_v2_adaptive()):\n",
        "    print(\"Function\", idx+1)\n",
        "    for agent in population:\n",
        "        print(agent, f1(agent))\n"
      ],
      "metadata": {
        "id": "yHFnDa42TlY_"
      },
      "execution_count": null,
      "outputs": []
    },
    {
      "cell_type": "code",
      "source": [
        "def pc_function(iter_no):\n",
        "    return max(0.5, 1 / (1 + iter_no))"
      ],
      "metadata": {
        "id": "-4N3CvfRXPZ7"
      },
      "execution_count": 13,
      "outputs": []
    },
    {
      "cell_type": "code",
      "source": [
        "def pm_function(iter_no):\n",
        "    return max(0.01, 0.1 / (1 + iter_no))"
      ],
      "metadata": {
        "id": "b_Rgobw2XNnm"
      },
      "execution_count": 14,
      "outputs": []
    },
    {
      "cell_type": "code",
      "source": [
        "def sphere_function(x):\n",
        "    return np.sum(np.square(x))"
      ],
      "metadata": {
        "id": "hUjvlS7KXIey"
      },
      "execution_count": 15,
      "outputs": []
    },
    {
      "cell_type": "code",
      "source": [
        "def CGA_adaptiveV1_greedy(pc_function, pm_function, population, function, no_of_variables):\n",
        "    NFE = 0\n",
        "    max_NFE = 1000\n",
        "    iter_no = 0\n",
        "\n",
        "    while NFE < max_NFE:\n",
        "        iter_no += 1\n",
        "        pc = pc_function(iter_no)\n",
        "        pm = pm_function(iter_no)\n",
        "\n",
        "        new_population = []\n",
        "        for i in range(len(population)):\n",
        "            parent1 = population[i]\n",
        "            parent2 = population[np.random.randint(len(population))]\n",
        "\n",
        "            if np.random.rand() < pc:\n",
        "                crossover_point = np.random.randint(1, no_of_variables - 1)\n",
        "                child = np.concatenate((parent1[:crossover_point], parent2[crossover_point:]))\n",
        "            else:\n",
        "                child = parent1.copy()\n",
        "\n",
        "            if np.random.rand() < pm:\n",
        "                mutation_idx = np.random.randint(no_of_variables)\n",
        "                child[mutation_idx] += np.random.normal()\n",
        "\n",
        "            new_population.append(child)\n",
        "\n",
        "        new_population.sort(key=function)\n",
        "        best_parent = min(population, key=function)\n",
        "        new_population[-1] = best_parent\n",
        "\n",
        "        population = new_population\n",
        "\n",
        "        NFE += len(new_population)\n",
        "\n",
        "    return population"
      ],
      "metadata": {
        "id": "S-roH1JNUK6l"
      },
      "execution_count": 17,
      "outputs": []
    },
    {
      "cell_type": "code",
      "source": [
        "final_population = CGA_adaptiveV1_greedy(pc_function, pm_function, population, sphere_function, no_of_variables)\n",
        "print(\"Best solution (CGA):\", min(final_population, key=sphere_function))\n"
      ],
      "metadata": {
        "id": "igPynvsoXDR1",
        "outputId": "d3d65dca-c993-45c0-b3ce-0ec90fd469bb",
        "colab": {
          "base_uri": "https://localhost:8080/"
        }
      },
      "execution_count": 18,
      "outputs": [
        {
          "output_type": "stream",
          "name": "stdout",
          "text": [
            "Best solution (CGA): [-0.49011166  0.07608145 -0.69306099 -1.15093236 -0.16511177  0.05238892\n",
            " -0.32661151  0.01738802  0.38317513  0.32700305]\n"
          ]
        }
      ]
    },
    {
      "cell_type": "code",
      "source": [
        "def pc_function_fitness(fitness):\n",
        "    return 0.5 + 0.4 * fitness"
      ],
      "metadata": {
        "id": "FRIlQo36YdHF"
      },
      "execution_count": 19,
      "outputs": []
    },
    {
      "cell_type": "code",
      "source": [
        "def pm_function_fitness(fitness):\n",
        "    return 0.1 - 0.08 * fitness"
      ],
      "metadata": {
        "id": "zvH2V_jkYfFQ"
      },
      "execution_count": 20,
      "outputs": []
    },
    {
      "cell_type": "code",
      "source": [
        "def CGA_adaptiveV2_greedy(pc_function, pm_function, population, function, no_of_variables):\n",
        "    NFE = 0\n",
        "    max_NFE = 1000\n",
        "\n",
        "    while NFE < max_NFE:\n",
        "        fitness_values = np.array([function(individual) for individual in population])\n",
        "        max_fitness = np.max(fitness_values)\n",
        "        min_fitness = np.min(fitness_values)\n",
        "\n",
        "        normalized_fitness = (max_fitness - fitness_values) / (max_fitness - min_fitness + 1e-10)\n",
        "\n",
        "        pc = pc_function(normalized_fitness)\n",
        "        pm = pm_function(normalized_fitness)\n",
        "\n",
        "        new_population = []\n",
        "        for i in range(len(population)):\n",
        "            parent1 = population[i]\n",
        "            parent2 = population[np.random.randint(len(population))]\n",
        "\n",
        "            if np.random.rand() < pc[i]:\n",
        "                crossover_point = np.random.randint(1, no_of_variables - 1)\n",
        "                child = np.concatenate((parent1[:crossover_point], parent2[crossover_point:]))\n",
        "            else:\n",
        "                child = parent1.copy()\n",
        "\n",
        "            if np.random.rand() < pm[i]:\n",
        "                mutation_idx = np.random.randint(no_of_variables)\n",
        "                child[mutation_idx] += np.random.normal()\n",
        "\n",
        "            new_population.append(child)\n",
        "\n",
        "        new_population.sort(key=function)\n",
        "        best_parent = min(population, key=function)\n",
        "        new_population[-1] = best_parent\n",
        "\n",
        "        population = new_population\n",
        "\n",
        "        NFE += len(new_population)\n",
        "\n",
        "    return population\n"
      ],
      "metadata": {
        "id": "lpfjS3GxXek8"
      },
      "execution_count": 22,
      "outputs": []
    },
    {
      "cell_type": "code",
      "source": [
        "final_population_v2 = CGA_adaptiveV2_greedy(pc_function_fitness, pm_function_fitness, population, f1, no_of_variables)\n",
        "print(\"Best solution (CGA V2):\", min(final_population_v2, key=f1))\n"
      ],
      "metadata": {
        "id": "v40wg3e7YkyV",
        "outputId": "140e5b51-1fb7-4950-9b6e-4b09c3d56435",
        "colab": {
          "base_uri": "https://localhost:8080/"
        }
      },
      "execution_count": 23,
      "outputs": [
        {
          "output_type": "stream",
          "name": "stdout",
          "text": [
            "Best solution (CGA V2): [ 0.01931239 -0.30544388  0.11654601 -0.04336698 -0.12141563  0.05238892\n",
            " -0.32661151  0.01738802  0.05382677  0.32700305]\n"
          ]
        }
      ]
    }
  ]
}